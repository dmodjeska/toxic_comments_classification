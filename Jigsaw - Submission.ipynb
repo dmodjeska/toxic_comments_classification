{
 "cells": [
  {
   "cell_type": "markdown",
   "metadata": {},
   "source": [
    "# Kaggle - Toxic Comment Classification Challenge\n",
    "# David Modjeska"
   ]
  },
  {
   "cell_type": "code",
   "execution_count": 1,
   "metadata": {},
   "outputs": [],
   "source": [
    "import datetime\n",
    "import numpy as np\n",
    "import pandas as pd\n",
    "import re\n",
    "import seaborn as sns\n",
    "\n",
    "from nltk.corpus import stopwords\n",
    "from tqdm.notebook import tqdm\n",
    "from matplotlib import pyplot as plt\n",
    "\n",
    "from sklearn.calibration import CalibratedClassifierCV\n",
    "from sklearn.decomposition import PCA\n",
    "from sklearn.ensemble import RandomForestClassifier as RFC\n",
    "from sklearn.ensemble import VotingClassifier\n",
    "from sklearn.linear_model import LogisticRegression as LogReg\n",
    "from sklearn.model_selection import cross_val_score\n",
    "from sklearn.feature_extraction.text import TfidfVectorizer\n",
    "from sklearn.metrics import accuracy_score, auc, f1_score, roc_auc_score, roc_curve, plot_roc_curve\n",
    "from sklearn.model_selection import train_test_split\n",
    "from sklearn.preprocessing import StandardScaler\n",
    "from sklearn.svm import LinearSVC as SVC\n",
    "from lightgbm import LGBMClassifier as LGBMC\n",
    "\n",
    "import tensorflow as tf\n",
    "from tensorflow.keras import regularizers, initializers, optimizers, callbacks\n",
    "from tensorflow.keras.preprocessing.sequence import pad_sequences\n",
    "from tensorflow.keras.preprocessing.text import Tokenizer\n",
    "from tensorflow.keras.utils import to_categorical\n",
    "from tensorflow.keras.layers import *\n",
    "from tensorflow.keras.models import Model, model_from_json\n",
    "from tensorflow.keras.estimator import model_to_estimator\n",
    "\n",
    "import pydot\n",
    "import pydotplus\n",
    "import graphviz"
   ]
  },
  {
   "cell_type": "code",
   "execution_count": 2,
   "metadata": {},
   "outputs": [],
   "source": [
    "import multiprocessing\n",
    "from joblib import Parallel, delayed\n",
    "\n",
    "num_cores = int(multiprocessing.cpu_count() / 2)"
   ]
  },
  {
   "cell_type": "code",
   "execution_count": 3,
   "metadata": {},
   "outputs": [],
   "source": [
    "%matplotlib inline\n",
    "plt.style.use('ggplot')\n",
    "\n",
    "pd.set_option('display.max_colwidth', 200)"
   ]
  },
  {
   "cell_type": "markdown",
   "metadata": {},
   "source": [
    "### Tools for Multiprocessing"
   ]
  },
  {
   "cell_type": "code",
   "execution_count": 102,
   "metadata": {},
   "outputs": [],
   "source": [
    "def parallel_function_wrapper(my_function, parms_tuple):\n",
    "        \n",
    "    # call the given function according to the correct number of parameters\n",
    "    if (parms_tuple[2] is not None) & (parms_tuple[3] is not None):\n",
    "        result = my_function(parms_tuple[1], parms_tuple[2], parms_tuple[3]) \n",
    "    elif parms_tuple[2] is not None:\n",
    "        result = my_function(parms_tuple[1], parms_tuple[2]) \n",
    "    else: \n",
    "        result = my_function(parms_tuple[1])     \n",
    "\n",
    "    # return the input ID with the return values\n",
    "    return_tuple = (parms_tuple[0], result)    \n",
    "    return(return_tuple)"
   ]
  },
  {
   "cell_type": "code",
   "execution_count": 134,
   "metadata": {},
   "outputs": [],
   "source": [
    "def parallelize_function(data, my_function, value_field, parameter_2 = None, parameter_3 = None):\n",
    "    \n",
    "    # prepare parameters for parallelized function call (including the row names for later sorting)\n",
    "    data_list_with_row_names = list(data.apply(lambda x: (x.name, x[value_field], parameter_2, parameter_3),\n",
    "                                               axis = 1))\n",
    "\n",
    "    # prepare the progress bar\n",
    "    inputs = tqdm(data_list_with_row_names)\n",
    "\n",
    "    # execute the given function using multiprocessing\n",
    "    if __name__ == \"__main__\":\n",
    "        result = Parallel(n_jobs = num_cores)(delayed(parallel_function_wrapper)(my_function, value) for value in inputs)\n",
    "    \n",
    "    # sort the results using row names\n",
    "    result_df = pd.DataFrame(result, columns = ('row_name', 'value'))\n",
    "    result_df['row_name'] = result_df['row_name'].astype(int)\n",
    "    result_df = result_df.sort_values(by = 'row_name') \n",
    "    \n",
    "    return(result_df['value'].values)"
   ]
  },
  {
   "cell_type": "markdown",
   "metadata": {},
   "source": [
    "## Load and Clean the Data"
   ]
  },
  {
   "cell_type": "markdown",
   "metadata": {},
   "source": [
    "### Load the Data"
   ]
  },
  {
   "cell_type": "code",
   "execution_count": 7,
   "metadata": {},
   "outputs": [],
   "source": [
    "train = pd.read_csv('data/train.csv')\n",
    "test = pd.read_csv('data/test.csv')\n",
    "test_labels = pd.read_csv('data/test_labels.csv')"
   ]
  },
  {
   "cell_type": "code",
   "execution_count": 8,
   "metadata": {},
   "outputs": [
    {
     "data": {
      "text/plain": [
       "(159571, 8)"
      ]
     },
     "execution_count": 8,
     "metadata": {},
     "output_type": "execute_result"
    }
   ],
   "source": [
    "train.shape"
   ]
  },
  {
   "cell_type": "code",
   "execution_count": 9,
   "metadata": {},
   "outputs": [
    {
     "data": {
      "text/plain": [
       "(153164, 2)"
      ]
     },
     "execution_count": 9,
     "metadata": {},
     "output_type": "execute_result"
    }
   ],
   "source": [
    "test.shape"
   ]
  },
  {
   "cell_type": "code",
   "execution_count": 10,
   "metadata": {},
   "outputs": [
    {
     "data": {
      "text/plain": [
       "(153164, 7)"
      ]
     },
     "execution_count": 10,
     "metadata": {},
     "output_type": "execute_result"
    }
   ],
   "source": [
    "test_labels.shape"
   ]
  },
  {
   "cell_type": "code",
   "execution_count": 11,
   "metadata": {},
   "outputs": [
    {
     "data": {
      "text/plain": [
       "0"
      ]
     },
     "execution_count": 11,
     "metadata": {},
     "output_type": "execute_result"
    }
   ],
   "source": [
    "train.isnull().sum().sum()"
   ]
  },
  {
   "cell_type": "code",
   "execution_count": 12,
   "metadata": {},
   "outputs": [
    {
     "data": {
      "text/plain": [
       "0"
      ]
     },
     "execution_count": 12,
     "metadata": {},
     "output_type": "execute_result"
    }
   ],
   "source": [
    "test.isnull().sum().sum()"
   ]
  },
  {
   "cell_type": "code",
   "execution_count": 13,
   "metadata": {},
   "outputs": [
    {
     "data": {
      "text/plain": [
       "0"
      ]
     },
     "execution_count": 13,
     "metadata": {},
     "output_type": "execute_result"
    }
   ],
   "source": [
    "test_labels.isnull().sum().sum()"
   ]
  },
  {
   "cell_type": "code",
   "execution_count": 14,
   "metadata": {},
   "outputs": [
    {
     "data": {
      "text/html": [
       "<div>\n",
       "<style scoped>\n",
       "    .dataframe tbody tr th:only-of-type {\n",
       "        vertical-align: middle;\n",
       "    }\n",
       "\n",
       "    .dataframe tbody tr th {\n",
       "        vertical-align: top;\n",
       "    }\n",
       "\n",
       "    .dataframe thead th {\n",
       "        text-align: right;\n",
       "    }\n",
       "</style>\n",
       "<table border=\"1\" class=\"dataframe\">\n",
       "  <thead>\n",
       "    <tr style=\"text-align: right;\">\n",
       "      <th></th>\n",
       "      <th>id</th>\n",
       "      <th>comment_text</th>\n",
       "      <th>toxic</th>\n",
       "      <th>severe_toxic</th>\n",
       "      <th>obscene</th>\n",
       "      <th>threat</th>\n",
       "      <th>insult</th>\n",
       "      <th>identity_hate</th>\n",
       "    </tr>\n",
       "  </thead>\n",
       "  <tbody>\n",
       "    <tr>\n",
       "      <th>0</th>\n",
       "      <td>0000997932d777bf</td>\n",
       "      <td>Explanation\\nWhy the edits made under my username Hardcore Metallica Fan were reverted? They weren't vandalisms, just closure on some GAs after I voted at New York Dolls FAC. And please don't remo...</td>\n",
       "      <td>0</td>\n",
       "      <td>0</td>\n",
       "      <td>0</td>\n",
       "      <td>0</td>\n",
       "      <td>0</td>\n",
       "      <td>0</td>\n",
       "    </tr>\n",
       "    <tr>\n",
       "      <th>1</th>\n",
       "      <td>000103f0d9cfb60f</td>\n",
       "      <td>D'aww! He matches this background colour I'm seemingly stuck with. Thanks.  (talk) 21:51, January 11, 2016 (UTC)</td>\n",
       "      <td>0</td>\n",
       "      <td>0</td>\n",
       "      <td>0</td>\n",
       "      <td>0</td>\n",
       "      <td>0</td>\n",
       "      <td>0</td>\n",
       "    </tr>\n",
       "    <tr>\n",
       "      <th>2</th>\n",
       "      <td>000113f07ec002fd</td>\n",
       "      <td>Hey man, I'm really not trying to edit war. It's just that this guy is constantly removing relevant information and talking to me through edits instead of my talk page. He seems to care more about...</td>\n",
       "      <td>0</td>\n",
       "      <td>0</td>\n",
       "      <td>0</td>\n",
       "      <td>0</td>\n",
       "      <td>0</td>\n",
       "      <td>0</td>\n",
       "    </tr>\n",
       "    <tr>\n",
       "      <th>3</th>\n",
       "      <td>0001b41b1c6bb37e</td>\n",
       "      <td>\"\\nMore\\nI can't make any real suggestions on improvement - I wondered if the section statistics should be later on, or a subsection of \"\"types of accidents\"\"  -I think the references may need tid...</td>\n",
       "      <td>0</td>\n",
       "      <td>0</td>\n",
       "      <td>0</td>\n",
       "      <td>0</td>\n",
       "      <td>0</td>\n",
       "      <td>0</td>\n",
       "    </tr>\n",
       "    <tr>\n",
       "      <th>4</th>\n",
       "      <td>0001d958c54c6e35</td>\n",
       "      <td>You, sir, are my hero. Any chance you remember what page that's on?</td>\n",
       "      <td>0</td>\n",
       "      <td>0</td>\n",
       "      <td>0</td>\n",
       "      <td>0</td>\n",
       "      <td>0</td>\n",
       "      <td>0</td>\n",
       "    </tr>\n",
       "  </tbody>\n",
       "</table>\n",
       "</div>"
      ],
      "text/plain": [
       "                 id  \\\n",
       "0  0000997932d777bf   \n",
       "1  000103f0d9cfb60f   \n",
       "2  000113f07ec002fd   \n",
       "3  0001b41b1c6bb37e   \n",
       "4  0001d958c54c6e35   \n",
       "\n",
       "                                                                                                                                                                                              comment_text  \\\n",
       "0  Explanation\\nWhy the edits made under my username Hardcore Metallica Fan were reverted? They weren't vandalisms, just closure on some GAs after I voted at New York Dolls FAC. And please don't remo...   \n",
       "1                                                                                         D'aww! He matches this background colour I'm seemingly stuck with. Thanks.  (talk) 21:51, January 11, 2016 (UTC)   \n",
       "2  Hey man, I'm really not trying to edit war. It's just that this guy is constantly removing relevant information and talking to me through edits instead of my talk page. He seems to care more about...   \n",
       "3  \"\\nMore\\nI can't make any real suggestions on improvement - I wondered if the section statistics should be later on, or a subsection of \"\"types of accidents\"\"  -I think the references may need tid...   \n",
       "4                                                                                                                                      You, sir, are my hero. Any chance you remember what page that's on?   \n",
       "\n",
       "   toxic  severe_toxic  obscene  threat  insult  identity_hate  \n",
       "0      0             0        0       0       0              0  \n",
       "1      0             0        0       0       0              0  \n",
       "2      0             0        0       0       0              0  \n",
       "3      0             0        0       0       0              0  \n",
       "4      0             0        0       0       0              0  "
      ]
     },
     "execution_count": 14,
     "metadata": {},
     "output_type": "execute_result"
    }
   ],
   "source": [
    "train.head()"
   ]
  },
  {
   "cell_type": "code",
   "execution_count": 15,
   "metadata": {},
   "outputs": [],
   "source": [
    "label_columns = ['toxic', 'severe_toxic', 'obscene', 'threat', 'insult', 'identity_hate']\n",
    "\n",
    "num_labels = len(label_columns)"
   ]
  },
  {
   "cell_type": "code",
   "execution_count": 16,
   "metadata": {},
   "outputs": [
    {
     "name": "stdout",
     "output_type": "stream",
     "text": [
      "(63978, 2)\n",
      "(63978, 7)\n"
     ]
    }
   ],
   "source": [
    "scored_y_test_indices = test_labels['toxic'].apply(lambda x: x != -1)\n",
    "\n",
    "test = test[scored_y_test_indices].reset_index(drop = True)\n",
    "test_labels = test_labels[scored_y_test_indices].reset_index(drop = True)\n",
    "\n",
    "print(test.shape)\n",
    "print(test_labels.shape)"
   ]
  },
  {
   "cell_type": "code",
   "execution_count": 17,
   "metadata": {},
   "outputs": [],
   "source": [
    "train = train.drop('id', axis = 1).reset_index(drop = True)\n",
    "test = test.drop('id', axis = 1).reset_index(drop = True)"
   ]
  },
  {
   "cell_type": "markdown",
   "metadata": {},
   "source": [
    "### Profanity"
   ]
  },
  {
   "cell_type": "code",
   "execution_count": 18,
   "metadata": {},
   "outputs": [
    {
     "data": {
      "application/vnd.jupyter.widget-view+json": {
       "model_id": "e5d0a087ecb64ee3b3252fa106ae561f",
       "version_major": 2,
       "version_minor": 0
      },
      "text/plain": [
       "  0%|          | 0/159571 [00:00<?, ?it/s]"
      ]
     },
     "metadata": {},
     "output_type": "display_data"
    },
    {
     "name": "stdout",
     "output_type": "stream",
     "text": [
      "my_profanity_check\n"
     ]
    },
    {
     "data": {
      "application/vnd.jupyter.widget-view+json": {
       "model_id": "6cafc89d65204e9dafbb954e1c9396fb",
       "version_major": 2,
       "version_minor": 0
      },
      "text/plain": [
       "  0%|          | 0/63978 [00:00<?, ?it/s]"
      ]
     },
     "metadata": {},
     "output_type": "display_data"
    },
    {
     "name": "stdout",
     "output_type": "stream",
     "text": [
      "my_profanity_check\n"
     ]
    }
   ],
   "source": [
    "import profanity_check\n",
    "\n",
    "def my_profanity_check(string):\n",
    "    return(profanity_check.predict_prob([string])[0])\n",
    "    \n",
    "train_profanity_list = parallelize_function(train, my_profanity_check, 'comment_text', None, None)\n",
    "test_profanity_list = parallelize_function(test, my_profanity_check, 'comment_text', None, None)"
   ]
  },
  {
   "cell_type": "code",
   "execution_count": 19,
   "metadata": {},
   "outputs": [],
   "source": [
    "train['profanity'] = train_profanity_list\n",
    "test['profanity'] = test_profanity_list"
   ]
  },
  {
   "cell_type": "markdown",
   "metadata": {},
   "source": [
    "## Text Features"
   ]
  },
  {
   "cell_type": "code",
   "execution_count": 20,
   "metadata": {},
   "outputs": [],
   "source": [
    "text_feature_columns = [\n",
    "    'num_character', 'num_word', 'num_number',\n",
    "    'num_uppercase', 'num_asterisk', 'num_bang', 'num_question',\n",
    "    'reading_ease', 'grade_level',\n",
    "    'negative_sentiment']"
   ]
  },
  {
   "cell_type": "code",
   "execution_count": 21,
   "metadata": {},
   "outputs": [],
   "source": [
    "text_feature_columns += ['profanity']"
   ]
  },
  {
   "cell_type": "code",
   "execution_count": 22,
   "metadata": {},
   "outputs": [],
   "source": [
    "import textstat\n",
    "from nltk.sentiment import SentimentIntensityAnalyzer"
   ]
  },
  {
   "cell_type": "code",
   "execution_count": 23,
   "metadata": {},
   "outputs": [],
   "source": [
    "# TO DO: num stop words\n",
    "def add_text_features(comments):\n",
    "\n",
    "    #----- language\n",
    "    \n",
    "#     comments['detect_language'] = parallelize_function(comments, my_detect, 'comment_text', None, None)\n",
    "#     comments['is_skip'] = comments['detect_language'].isin(skip_languages)\n",
    "#     comments['is_english'] = comments['detect_language'].apply(lambda x: x == 'en')\n",
    "    \n",
    "    #-----\n",
    "    \n",
    "    # number of characters\n",
    "    comments['num_character'] = comments['comment_text'].str.len()\n",
    "\n",
    "    # number of words\n",
    "    comments['num_word'] = comments['comment_text'].str.split().str.len()\n",
    "    \n",
    "    # number of upper-case letters \n",
    "    comments['num_uppercase'] = comments['comment_text'].str.findall(r'[A-Z]').str.len()     \n",
    "\n",
    "    # number of asterisks\n",
    "    comments['num_asterisk'] = comments['comment_text'].str.findall(r'[*]').str.len()\n",
    "    \n",
    "    # number of exclamation marks\n",
    "    comments['num_bang'] = comments['comment_text'].str.findall(r'[!]').str.len()\n",
    "    \n",
    "    # number of question marks\n",
    "    comments['num_question'] = comments['comment_text'].str.findall(r'[?]').str.len()  \n",
    "    \n",
    "    # number of numbers\n",
    "    comments['num_number'] = comments['comment_text'].str.findall(r'[0-9]').str.len()  \n",
    "    \n",
    "    #----- text analysis\n",
    "    \n",
    "    # reading ease\n",
    "    comments['reading_ease'] = parallelize_function(comments, textstat.flesch_reading_ease, 'comment_text', None, None)\n",
    "    comments['reading_ease'] = comments['reading_ease'].astype(float)\n",
    "    \n",
    "    # grade level    \n",
    "    comments['grade_level'] = parallelize_function(comments, textstat.flesch_kincaid_grade, 'comment_text', None, None)\n",
    "    comments['grade_level'] = comments['grade_level'].astype(float)\n",
    "    \n",
    "    #----- sentiment analysis\n",
    "    \n",
    "    sia = SentimentIntensityAnalyzer()\n",
    "\n",
    "    my_lambda = lambda x: sia.polarity_scores(x)['neg']\n",
    "    comments['negative_sentiment'] = parallelize_function(comments, my_lambda, 'comment_text', None, None)\n",
    "    comments['negative_sentiment'] = comments['negative_sentiment'].astype(float)\n",
    "    \n",
    "    return(comments)"
   ]
  },
  {
   "cell_type": "code",
   "execution_count": 24,
   "metadata": {},
   "outputs": [
    {
     "data": {
      "application/vnd.jupyter.widget-view+json": {
       "model_id": "5b6e507645d1479d950613fc3ae0bf19",
       "version_major": 2,
       "version_minor": 0
      },
      "text/plain": [
       "  0%|          | 0/159571 [00:00<?, ?it/s]"
      ]
     },
     "metadata": {},
     "output_type": "display_data"
    },
    {
     "name": "stdout",
     "output_type": "stream",
     "text": [
      "flesch_reading_ease\n"
     ]
    },
    {
     "data": {
      "application/vnd.jupyter.widget-view+json": {
       "model_id": "3e83e1b693584164b8a6cfccefec33a0",
       "version_major": 2,
       "version_minor": 0
      },
      "text/plain": [
       "  0%|          | 0/159571 [00:00<?, ?it/s]"
      ]
     },
     "metadata": {},
     "output_type": "display_data"
    },
    {
     "name": "stdout",
     "output_type": "stream",
     "text": [
      "flesch_kincaid_grade\n"
     ]
    },
    {
     "data": {
      "application/vnd.jupyter.widget-view+json": {
       "model_id": "d1174652d9474d7383b8768b5fab4235",
       "version_major": 2,
       "version_minor": 0
      },
      "text/plain": [
       "  0%|          | 0/159571 [00:00<?, ?it/s]"
      ]
     },
     "metadata": {},
     "output_type": "display_data"
    },
    {
     "name": "stdout",
     "output_type": "stream",
     "text": [
      "<lambda>\n"
     ]
    },
    {
     "data": {
      "application/vnd.jupyter.widget-view+json": {
       "model_id": "f0fa0fa639974ffbbb1a103394a5c317",
       "version_major": 2,
       "version_minor": 0
      },
      "text/plain": [
       "  0%|          | 0/63978 [00:00<?, ?it/s]"
      ]
     },
     "metadata": {},
     "output_type": "display_data"
    },
    {
     "name": "stdout",
     "output_type": "stream",
     "text": [
      "flesch_reading_ease\n"
     ]
    },
    {
     "data": {
      "application/vnd.jupyter.widget-view+json": {
       "model_id": "ecc98d9b6c404b72985e91e8eb0e0f99",
       "version_major": 2,
       "version_minor": 0
      },
      "text/plain": [
       "  0%|          | 0/63978 [00:00<?, ?it/s]"
      ]
     },
     "metadata": {},
     "output_type": "display_data"
    },
    {
     "name": "stdout",
     "output_type": "stream",
     "text": [
      "flesch_kincaid_grade\n"
     ]
    },
    {
     "data": {
      "application/vnd.jupyter.widget-view+json": {
       "model_id": "a864f071f2ca49e393ac0259f7a6062b",
       "version_major": 2,
       "version_minor": 0
      },
      "text/plain": [
       "  0%|          | 0/63978 [00:00<?, ?it/s]"
      ]
     },
     "metadata": {},
     "output_type": "display_data"
    },
    {
     "name": "stdout",
     "output_type": "stream",
     "text": [
      "<lambda>\n"
     ]
    }
   ],
   "source": [
    "train = add_text_features(train)\n",
    "test = add_text_features(test)"
   ]
  },
  {
   "cell_type": "markdown",
   "metadata": {},
   "source": [
    "### Clean the Comments"
   ]
  },
  {
   "cell_type": "code",
   "execution_count": 25,
   "metadata": {},
   "outputs": [],
   "source": [
    "def clean_comment(text, the_stopwords, remove_stopwords = True):\n",
    "    \n",
    "    output = ''\n",
    "    \n",
    "    comment = str(text).replace(\"\\n\", \" \")\n",
    "    comment = re.sub(r'[^\\w]', ' ', comment).lower()\n",
    "    comment = re.sub(r'[\\s]+',' ', comment)\n",
    "        \n",
    "    if remove_stopwords:\n",
    "        comment = comment.split(\" \")\n",
    "        for word in comment:\n",
    "            if word not in the_stopwords:\n",
    "                output += \" \" + word\n",
    "    else:\n",
    "        output = comment\n",
    "        \n",
    "    output = output.strip()\n",
    "    return(output)"
   ]
  },
  {
   "cell_type": "code",
   "execution_count": 26,
   "metadata": {},
   "outputs": [],
   "source": [
    "the_stopwords = stopwords.words('English')"
   ]
  },
  {
   "cell_type": "code",
   "execution_count": 27,
   "metadata": {},
   "outputs": [
    {
     "data": {
      "application/vnd.jupyter.widget-view+json": {
       "model_id": "a26db59bebd94ef8b4d639dc4690cc2c",
       "version_major": 2,
       "version_minor": 0
      },
      "text/plain": [
       "  0%|          | 0/159571 [00:00<?, ?it/s]"
      ]
     },
     "metadata": {},
     "output_type": "display_data"
    },
    {
     "name": "stdout",
     "output_type": "stream",
     "text": [
      "clean_comment\n"
     ]
    }
   ],
   "source": [
    "train['comment_text_clean'] = parallelize_function(train, clean_comment, 'comment_text', the_stopwords, False)"
   ]
  },
  {
   "cell_type": "code",
   "execution_count": 28,
   "metadata": {},
   "outputs": [
    {
     "data": {
      "application/vnd.jupyter.widget-view+json": {
       "model_id": "d9364f80740f410a8f233d15bb925bc8",
       "version_major": 2,
       "version_minor": 0
      },
      "text/plain": [
       "  0%|          | 0/63978 [00:00<?, ?it/s]"
      ]
     },
     "metadata": {},
     "output_type": "display_data"
    },
    {
     "name": "stdout",
     "output_type": "stream",
     "text": [
      "clean_comment\n"
     ]
    }
   ],
   "source": [
    "test['comment_text_clean'] = parallelize_function(test, clean_comment, 'comment_text', the_stopwords, False)"
   ]
  },
  {
   "cell_type": "code",
   "execution_count": 29,
   "metadata": {},
   "outputs": [],
   "source": [
    "# convert label values to numeric\n",
    "train[label_columns] = train[label_columns].applymap(lambda x: pd.to_numeric(x))\n",
    "test_labels[label_columns] = test_labels[label_columns].applymap(lambda x: pd.to_numeric(x))"
   ]
  },
  {
   "cell_type": "code",
   "execution_count": 30,
   "metadata": {},
   "outputs": [],
   "source": [
    "train[text_feature_columns] = train[text_feature_columns].applymap(lambda x: pd.to_numeric(x))\n",
    "test[text_feature_columns] = test[text_feature_columns].applymap(lambda x: pd.to_numeric(x))"
   ]
  },
  {
   "cell_type": "code",
   "execution_count": 31,
   "metadata": {},
   "outputs": [],
   "source": [
    "X_train = train['comment_text_clean']\n",
    "X_test = test['comment_text_clean']"
   ]
  },
  {
   "cell_type": "code",
   "execution_count": 32,
   "metadata": {},
   "outputs": [],
   "source": [
    "X_train_char = train[text_feature_columns]\n",
    "X_test_char = test[text_feature_columns]"
   ]
  },
  {
   "cell_type": "code",
   "execution_count": 33,
   "metadata": {},
   "outputs": [],
   "source": [
    "my_scaler = StandardScaler()\n",
    "my_scaler.fit(X_train_char)\n",
    "\n",
    "X_train_char = my_scaler.transform(X_train_char)\n",
    "X_test_char = my_scaler.transform(X_test_char)"
   ]
  },
  {
   "cell_type": "code",
   "execution_count": 34,
   "metadata": {},
   "outputs": [],
   "source": [
    "y_train = train[label_columns].values\n",
    "y_test = test_labels[label_columns].values"
   ]
  },
  {
   "cell_type": "markdown",
   "metadata": {},
   "source": [
    "### Vectorize the Text"
   ]
  },
  {
   "cell_type": "markdown",
   "metadata": {},
   "source": [
    "#### Define helper functions to get top features names"
   ]
  },
  {
   "cell_type": "code",
   "execution_count": 35,
   "metadata": {},
   "outputs": [],
   "source": [
    "# from https://buhrmann.github.io/tfidf-analysis.html\n",
    "\n",
    "def top_tfidf_features(row, features, top_n = 25):\n",
    "    ''' Get top n tfidf values in row and return them with their corresponding feature names.'''\n",
    "    topn_ids = np.argsort(row)[::-1][:top_n]\n",
    "    top_feats = [(features[i], row[i]) for i in topn_ids]\n",
    "    df = pd.DataFrame(top_feats)\n",
    "    df.columns = ['feature', 'tfidf']\n",
    "    return df\n",
    "\n",
    "def top_features_in_doc(Xtr, features, row_id, top_n = 25):\n",
    "    ''' Top tfidf features in specific document (matrix row) '''\n",
    "    row = np.squeeze(Xtr[row_id].toarray())\n",
    "    return top_tfidf_features(row, features, top_n)"
   ]
  },
  {
   "cell_type": "markdown",
   "metadata": {},
   "source": [
    "#### Vectorize Comments"
   ]
  },
  {
   "cell_type": "code",
   "execution_count": 36,
   "metadata": {},
   "outputs": [],
   "source": [
    "vectorizer = TfidfVectorizer(max_df = 0.5, min_df = 0.0001, stop_words = 'english',\n",
    "                                 use_idf = True, ngram_range = (1, 1), max_features = 10000)\n",
    "vectorizer.fit(train['comment_text'])\n",
    "\n",
    "X_train_tfidf = vectorizer.transform(train['comment_text'])\n",
    "X_test_tfidf = vectorizer.transform(test['comment_text'])"
   ]
  },
  {
   "cell_type": "code",
   "execution_count": 37,
   "metadata": {},
   "outputs": [],
   "source": [
    "X_train_all = X_train_tfidf\n",
    "X_test_all = X_test_tfidf"
   ]
  },
  {
   "cell_type": "code",
   "execution_count": 38,
   "metadata": {},
   "outputs": [],
   "source": [
    "y_train = train[label_columns]\n",
    "y_test = test_labels[label_columns]"
   ]
  },
  {
   "cell_type": "code",
   "execution_count": 39,
   "metadata": {},
   "outputs": [
    {
     "name": "stdout",
     "output_type": "stream",
     "text": [
      "['mitt', 'barbaro', 'foreskin', 'chand', 'dungeons', 'garrison', 'bauder', 'noes', 'orangemike', 'knob', 'tipler', 'truman', 'uruguay', 'cody', 'belle', 'jws', 'billcj', 'bail', 'wtc', 'yadavs', 'rexcurry', 'féin', '420', 'salvio', 'hazel']\n"
     ]
    }
   ],
   "source": [
    "indices = np.argsort(vectorizer.idf_)[::-1]\n",
    "features = vectorizer.get_feature_names()\n",
    "top_n = 25\n",
    "top_features = [features[i] for i in indices[:top_n]]\n",
    "print(top_features)"
   ]
  },
  {
   "cell_type": "code",
   "execution_count": 40,
   "metadata": {},
   "outputs": [
    {
     "data": {
      "text/plain": [
       "10000"
      ]
     },
     "execution_count": 40,
     "metadata": {},
     "output_type": "execute_result"
    }
   ],
   "source": [
    "len(features)"
   ]
  },
  {
   "cell_type": "markdown",
   "metadata": {},
   "source": [
    "## Plotting Functions "
   ]
  },
  {
   "cell_type": "code",
   "execution_count": 41,
   "metadata": {},
   "outputs": [],
   "source": [
    "def display_roc_curve(y_true, y_predict, label, ax):\n",
    "\n",
    "    fp_rate, tp_rate, _ = roc_curve(y_true, y_predict)\n",
    "    roc_auc = auc(fp_rate, tp_rate)\n",
    "\n",
    "\n",
    "    ax.set_title('label = ' + label)\n",
    "\n",
    "    ax.plot(fp_rate, tp_rate, 'b', label='AUC = %0.2f'% roc_auc)\n",
    "    ax.legend(loc = 'lower right')\n",
    "\n",
    "    ax.plot([0,1],[0,1], 'r--', lw = 1)\n",
    "    ax.set_xlim([-0.1, 1.2])\n",
    "    ax.set_ylim([-0.1, 1.2])\n",
    "\n",
    "    ax.set_ylabel('True Positive Rate')\n",
    "    ax.set_xlabel('False Positive Rate')"
   ]
  },
  {
   "cell_type": "code",
   "execution_count": 42,
   "metadata": {
    "scrolled": false
   },
   "outputs": [],
   "source": [
    "def plot_roc_auc_grid(y_test, all_predictions):\n",
    "    fig, axes = plt.subplots(3, 2, figsize = (10, 14))\n",
    "    fig.suptitle('ROC AUC by Label\\n', fontsize = 14)\n",
    "\n",
    "    for i in range(num_labels):\n",
    "        \n",
    "        # if these predictions have two columns, use the second column\n",
    "        this_all_predictions = all_predictions[i]\n",
    "        if np.ndim(this_all_predictions) == 2:\n",
    "            this_all_predictions = this_all_predictions[:, 1]\n",
    "            \n",
    "        ax = axes[i // 2, i % 2]\n",
    "        display_roc_curve(y_test.iloc[:, i], this_all_predictions, label_columns[i], ax)\n",
    "\n",
    "    plt.tight_layout()\n",
    "    plt.show()    "
   ]
  },
  {
   "cell_type": "markdown",
   "metadata": {},
   "source": [
    "## Baseline Model"
   ]
  },
  {
   "cell_type": "code",
   "execution_count": 43,
   "metadata": {},
   "outputs": [],
   "source": [
    "baseline_predictions = np.zeros(y_test.shape)"
   ]
  },
  {
   "cell_type": "code",
   "execution_count": 44,
   "metadata": {},
   "outputs": [],
   "source": [
    "all_scores_baseline = pd.DataFrame()\n",
    "\n",
    "for i in range(num_labels):\n",
    "    this_predict_proba = baseline_predictions[:, i] \n",
    "    \n",
    "    this_roc_auc_score = pd.DataFrame({\n",
    "        'column' : [label_columns[i]], \n",
    "        'accuracy' : [round(accuracy_score(y_test.iloc[:, i], this_predict_proba), 4)],\n",
    "        'F1' : [round(f1_score(y_test.iloc[:, i], this_predict_proba), 4)],\n",
    "        'ROC AUC' : [round(roc_auc_score(y_test.iloc[:, i], this_predict_proba), 4)]\n",
    "    })\n",
    "    all_scores_baseline = pd.concat([all_scores_baseline, this_roc_auc_score], axis = 0)"
   ]
  },
  {
   "cell_type": "code",
   "execution_count": 45,
   "metadata": {},
   "outputs": [
    {
     "data": {
      "text/html": [
       "<div>\n",
       "<style scoped>\n",
       "    .dataframe tbody tr th:only-of-type {\n",
       "        vertical-align: middle;\n",
       "    }\n",
       "\n",
       "    .dataframe tbody tr th {\n",
       "        vertical-align: top;\n",
       "    }\n",
       "\n",
       "    .dataframe thead th {\n",
       "        text-align: right;\n",
       "    }\n",
       "</style>\n",
       "<table border=\"1\" class=\"dataframe\">\n",
       "  <thead>\n",
       "    <tr style=\"text-align: right;\">\n",
       "      <th></th>\n",
       "      <th>column</th>\n",
       "      <th>accuracy</th>\n",
       "      <th>F1</th>\n",
       "      <th>ROC AUC</th>\n",
       "    </tr>\n",
       "  </thead>\n",
       "  <tbody>\n",
       "    <tr>\n",
       "      <th>0</th>\n",
       "      <td>toxic</td>\n",
       "      <td>0.9048</td>\n",
       "      <td>0.0</td>\n",
       "      <td>0.5</td>\n",
       "    </tr>\n",
       "    <tr>\n",
       "      <th>1</th>\n",
       "      <td>severe_toxic</td>\n",
       "      <td>0.9943</td>\n",
       "      <td>0.0</td>\n",
       "      <td>0.5</td>\n",
       "    </tr>\n",
       "    <tr>\n",
       "      <th>2</th>\n",
       "      <td>obscene</td>\n",
       "      <td>0.9423</td>\n",
       "      <td>0.0</td>\n",
       "      <td>0.5</td>\n",
       "    </tr>\n",
       "    <tr>\n",
       "      <th>3</th>\n",
       "      <td>threat</td>\n",
       "      <td>0.9967</td>\n",
       "      <td>0.0</td>\n",
       "      <td>0.5</td>\n",
       "    </tr>\n",
       "    <tr>\n",
       "      <th>4</th>\n",
       "      <td>insult</td>\n",
       "      <td>0.9464</td>\n",
       "      <td>0.0</td>\n",
       "      <td>0.5</td>\n",
       "    </tr>\n",
       "    <tr>\n",
       "      <th>5</th>\n",
       "      <td>identity_hate</td>\n",
       "      <td>0.9889</td>\n",
       "      <td>0.0</td>\n",
       "      <td>0.5</td>\n",
       "    </tr>\n",
       "  </tbody>\n",
       "</table>\n",
       "</div>"
      ],
      "text/plain": [
       "          column  accuracy   F1  ROC AUC\n",
       "0          toxic    0.9048  0.0      0.5\n",
       "1   severe_toxic    0.9943  0.0      0.5\n",
       "2        obscene    0.9423  0.0      0.5\n",
       "3         threat    0.9967  0.0      0.5\n",
       "4         insult    0.9464  0.0      0.5\n",
       "5  identity_hate    0.9889  0.0      0.5"
      ]
     },
     "execution_count": 45,
     "metadata": {},
     "output_type": "execute_result"
    }
   ],
   "source": [
    "all_scores_baseline.reset_index(drop = True)"
   ]
  },
  {
   "cell_type": "code",
   "execution_count": 46,
   "metadata": {
    "scrolled": true
   },
   "outputs": [
    {
     "name": "stdout",
     "output_type": "stream",
     "text": [
      "Mean accuracy: 0.9622\n",
      "Mean F1: 0.0\n",
      "Mean ROC AUC: 0.5\n"
     ]
    }
   ],
   "source": [
    "print('Mean accuracy: ' + str(round(all_scores_baseline['accuracy'].mean(), 4)))\n",
    "print('Mean F1: ' + str(round(all_scores_baseline['F1'].mean(), 4)))\n",
    "print('Mean ROC AUC: ' + str(round(all_scores_baseline['ROC AUC'].mean(), 4)))"
   ]
  },
  {
   "cell_type": "markdown",
   "metadata": {},
   "source": [
    "## Classic Machine Learning - Ensemble - Vectorized Text"
   ]
  },
  {
   "cell_type": "markdown",
   "metadata": {},
   "source": [
    "### Create the Component Models"
   ]
  },
  {
   "cell_type": "code",
   "execution_count": 47,
   "metadata": {},
   "outputs": [],
   "source": [
    "xgbc = LGBMC(boosting_type = 'gbdt',\n",
    "             objective = 'binary',\n",
    "             eval_metric = 'logloss',\n",
    "           use_label_encoder = False,\n",
    "           n_estimators = 150, \n",
    "           max_depth = 7,\n",
    "           learning_rate = 0.35,\n",
    "           n_jobs = num_cores)"
   ]
  },
  {
   "cell_type": "code",
   "execution_count": 48,
   "metadata": {},
   "outputs": [],
   "source": [
    "log_reg = LogReg(C = 1,\n",
    "                n_jobs = num_cores)"
   ]
  },
  {
   "cell_type": "code",
   "execution_count": 49,
   "metadata": {},
   "outputs": [],
   "source": [
    "rfc = LGBMC(boosting_type = 'rf',\n",
    "            objective = 'binary',\n",
    "            n_estimators = 300,\n",
    "            max_depth = None,\n",
    "            n_jobs = num_cores,\n",
    "            feature_fraction = 0.9,\n",
    "            bagging_fraction = 0.8,\n",
    "            bagging_freq = 5)"
   ]
  },
  {
   "cell_type": "markdown",
   "metadata": {},
   "source": [
    "### Cross-validate the ensemble"
   ]
  },
  {
   "cell_type": "code",
   "execution_count": 50,
   "metadata": {},
   "outputs": [
    {
     "name": "stdout",
     "output_type": "stream",
     "text": [
      "TRAIN\n",
      "Label 0\n",
      "Label 1\n",
      "Label 2\n",
      "Label 3\n",
      "Label 4\n",
      "Label 5\n"
     ]
    }
   ],
   "source": [
    "all_ensembles = [None] * num_labels\n",
    "print('TRAIN')\n",
    "    \n",
    "for i in range(num_labels):\n",
    "    print('Label ' + str(i))\n",
    "    this_ensemble = VotingClassifier(estimators = [\n",
    "        ('xgbc', xgbc), \n",
    "        ('log_reg', log_reg), \n",
    "        ('rfc', rfc)\n",
    "    ],\n",
    "                                     voting = 'soft',\n",
    "                                     n_jobs = num_cores)\n",
    "    this_ensemble.fit(X_train_all, y_train.iloc[:, i])\n",
    "    all_ensembles[i] = this_ensemble"
   ]
  },
  {
   "cell_type": "code",
   "execution_count": 51,
   "metadata": {},
   "outputs": [
    {
     "name": "stdout",
     "output_type": "stream",
     "text": [
      "Classic machine learning - start time:  2021-07-18 18:03:12.148447\n"
     ]
    }
   ],
   "source": [
    "classic_ml_start_time = datetime.datetime.now()\n",
    "print(\"Classic machine learning - start time: \", classic_ml_start_time)"
   ]
  },
  {
   "cell_type": "code",
   "execution_count": 52,
   "metadata": {},
   "outputs": [
    {
     "name": "stdout",
     "output_type": "stream",
     "text": [
      "CV\n",
      "Label 0\n"
     ]
    },
    {
     "name": "stderr",
     "output_type": "stream",
     "text": [
      "[Parallel(n_jobs=8)]: Using backend LokyBackend with 8 concurrent workers.\n",
      "[Parallel(n_jobs=8)]: Done   3 out of   3 | elapsed:  2.8min finished\n"
     ]
    },
    {
     "name": "stdout",
     "output_type": "stream",
     "text": [
      "     ROC AUC: 0.9659\n",
      "Label 1\n"
     ]
    },
    {
     "name": "stderr",
     "output_type": "stream",
     "text": [
      "[Parallel(n_jobs=8)]: Using backend LokyBackend with 8 concurrent workers.\n",
      "[Parallel(n_jobs=8)]: Done   3 out of   3 | elapsed:  2.2min finished\n"
     ]
    },
    {
     "name": "stdout",
     "output_type": "stream",
     "text": [
      "     ROC AUC: 0.9818\n",
      "Label 2\n"
     ]
    },
    {
     "name": "stderr",
     "output_type": "stream",
     "text": [
      "[Parallel(n_jobs=8)]: Using backend LokyBackend with 8 concurrent workers.\n",
      "[Parallel(n_jobs=8)]: Done   3 out of   3 | elapsed:  2.6min finished\n"
     ]
    },
    {
     "name": "stdout",
     "output_type": "stream",
     "text": [
      "     ROC AUC: 0.9841\n",
      "Label 3\n"
     ]
    },
    {
     "name": "stderr",
     "output_type": "stream",
     "text": [
      "[Parallel(n_jobs=8)]: Using backend LokyBackend with 8 concurrent workers.\n",
      "[Parallel(n_jobs=8)]: Done   3 out of   3 | elapsed:  2.1min finished\n"
     ]
    },
    {
     "name": "stdout",
     "output_type": "stream",
     "text": [
      "     ROC AUC: 0.9785\n",
      "Label 4\n"
     ]
    },
    {
     "name": "stderr",
     "output_type": "stream",
     "text": [
      "[Parallel(n_jobs=8)]: Using backend LokyBackend with 8 concurrent workers.\n",
      "[Parallel(n_jobs=8)]: Done   3 out of   3 | elapsed:  2.7min finished\n"
     ]
    },
    {
     "name": "stdout",
     "output_type": "stream",
     "text": [
      "     ROC AUC: 0.9734\n",
      "Label 5\n"
     ]
    },
    {
     "name": "stderr",
     "output_type": "stream",
     "text": [
      "[Parallel(n_jobs=8)]: Using backend LokyBackend with 8 concurrent workers.\n",
      "[Parallel(n_jobs=8)]: Done   3 out of   3 | elapsed:  2.3min finished\n"
     ]
    },
    {
     "name": "stdout",
     "output_type": "stream",
     "text": [
      "     ROC AUC: 0.9679\n"
     ]
    }
   ],
   "source": [
    "all_cv_results = pd.DataFrame()\n",
    "print('CV')\n",
    "\n",
    "for i in range(num_labels):\n",
    "    print('Label ' + str(i))\n",
    "    \n",
    "    these_cv_scores = cross_val_score(estimator = all_ensembles[i], \n",
    "                                     X = X_train_all, \n",
    "                                     y = y_train.iloc[:, i],\n",
    "                                     cv = 3,\n",
    "                                     n_jobs = num_cores,\n",
    "                                     scoring = 'roc_auc',\n",
    "                                     verbose = 1)    \n",
    "    these_cv_scores_mean = round(these_cv_scores.mean(), 4)\n",
    "    print('     ROC AUC: ' + str(these_cv_scores_mean))\n",
    "\n",
    "    this_cv_result = pd.DataFrame({ 'Label' : [label_columns[i]], 'ROC AUC' : [these_cv_scores_mean] })        \n",
    "    all_cv_results = pd.concat([all_cv_results, this_cv_result], axis = 0)"
   ]
  },
  {
   "cell_type": "code",
   "execution_count": 53,
   "metadata": {},
   "outputs": [
    {
     "name": "stdout",
     "output_type": "stream",
     "text": [
      "Classic machine learning - end time:  2021-07-18 18:17:53.075829\n",
      "Classic machine learning elapsed time:  0:14:40.927382\n"
     ]
    }
   ],
   "source": [
    "classic_ml_end_time = datetime.datetime.now()\n",
    "print(\"Classic machine learning - end time: \", classic_ml_end_time)\n",
    "print(\"Classic machine learning elapsed time: \", classic_ml_end_time - classic_ml_start_time)"
   ]
  },
  {
   "cell_type": "code",
   "execution_count": 54,
   "metadata": {},
   "outputs": [
    {
     "data": {
      "text/html": [
       "<div>\n",
       "<style scoped>\n",
       "    .dataframe tbody tr th:only-of-type {\n",
       "        vertical-align: middle;\n",
       "    }\n",
       "\n",
       "    .dataframe tbody tr th {\n",
       "        vertical-align: top;\n",
       "    }\n",
       "\n",
       "    .dataframe thead th {\n",
       "        text-align: right;\n",
       "    }\n",
       "</style>\n",
       "<table border=\"1\" class=\"dataframe\">\n",
       "  <thead>\n",
       "    <tr style=\"text-align: right;\">\n",
       "      <th></th>\n",
       "      <th>Label</th>\n",
       "      <th>ROC AUC</th>\n",
       "    </tr>\n",
       "  </thead>\n",
       "  <tbody>\n",
       "    <tr>\n",
       "      <th>0</th>\n",
       "      <td>toxic</td>\n",
       "      <td>0.9659</td>\n",
       "    </tr>\n",
       "    <tr>\n",
       "      <th>0</th>\n",
       "      <td>severe_toxic</td>\n",
       "      <td>0.9818</td>\n",
       "    </tr>\n",
       "    <tr>\n",
       "      <th>0</th>\n",
       "      <td>obscene</td>\n",
       "      <td>0.9841</td>\n",
       "    </tr>\n",
       "    <tr>\n",
       "      <th>0</th>\n",
       "      <td>threat</td>\n",
       "      <td>0.9785</td>\n",
       "    </tr>\n",
       "    <tr>\n",
       "      <th>0</th>\n",
       "      <td>insult</td>\n",
       "      <td>0.9734</td>\n",
       "    </tr>\n",
       "    <tr>\n",
       "      <th>0</th>\n",
       "      <td>identity_hate</td>\n",
       "      <td>0.9679</td>\n",
       "    </tr>\n",
       "  </tbody>\n",
       "</table>\n",
       "</div>"
      ],
      "text/plain": [
       "           Label  ROC AUC\n",
       "0          toxic   0.9659\n",
       "0   severe_toxic   0.9818\n",
       "0        obscene   0.9841\n",
       "0         threat   0.9785\n",
       "0         insult   0.9734\n",
       "0  identity_hate   0.9679"
      ]
     },
     "execution_count": 54,
     "metadata": {},
     "output_type": "execute_result"
    }
   ],
   "source": [
    "all_cv_results"
   ]
  },
  {
   "cell_type": "code",
   "execution_count": 55,
   "metadata": {},
   "outputs": [
    {
     "name": "stdout",
     "output_type": "stream",
     "text": [
      "0.9753\n"
     ]
    }
   ],
   "source": [
    "print(round(all_cv_results['ROC AUC'].mean(), 4))"
   ]
  },
  {
   "cell_type": "markdown",
   "metadata": {},
   "source": [
    "### Generate the Test Predictions"
   ]
  },
  {
   "cell_type": "code",
   "execution_count": 56,
   "metadata": {},
   "outputs": [
    {
     "name": "stdout",
     "output_type": "stream",
     "text": [
      "PREDICT\n",
      "Label 0\n",
      "Label 1\n",
      "Label 2\n",
      "Label 3\n",
      "Label 4\n",
      "Label 5\n"
     ]
    }
   ],
   "source": [
    "all_predictions_ml = [None] * num_labels\n",
    "all_roc_auc_scores_ml = pd.DataFrame()\n",
    "\n",
    "print('PREDICT')\n",
    "\n",
    "for i in range(num_labels):\n",
    "    print('Label ' + str(i))\n",
    "    \n",
    "    this_predict_proba = all_ensembles[i].predict_proba(X_test_all)\n",
    "    all_predictions_ml[i] = this_predict_proba\n",
    "    \n",
    "    this_roc_auc_score = pd.DataFrame({\n",
    "        'column' : [label_columns[i]], \n",
    "        'ROC AUC' : [round(roc_auc_score(y_test.iloc[:, i], this_predict_proba[:, 1]), 4)]\n",
    "    })\n",
    "    all_roc_auc_scores_ml = pd.concat([all_roc_auc_scores_ml, this_roc_auc_score], axis = 0)"
   ]
  },
  {
   "cell_type": "code",
   "execution_count": 57,
   "metadata": {},
   "outputs": [
    {
     "data": {
      "text/html": [
       "<div>\n",
       "<style scoped>\n",
       "    .dataframe tbody tr th:only-of-type {\n",
       "        vertical-align: middle;\n",
       "    }\n",
       "\n",
       "    .dataframe tbody tr th {\n",
       "        vertical-align: top;\n",
       "    }\n",
       "\n",
       "    .dataframe thead th {\n",
       "        text-align: right;\n",
       "    }\n",
       "</style>\n",
       "<table border=\"1\" class=\"dataframe\">\n",
       "  <thead>\n",
       "    <tr style=\"text-align: right;\">\n",
       "      <th></th>\n",
       "      <th>column</th>\n",
       "      <th>ROC AUC</th>\n",
       "    </tr>\n",
       "  </thead>\n",
       "  <tbody>\n",
       "    <tr>\n",
       "      <th>0</th>\n",
       "      <td>toxic</td>\n",
       "      <td>0.9557</td>\n",
       "    </tr>\n",
       "    <tr>\n",
       "      <th>1</th>\n",
       "      <td>severe_toxic</td>\n",
       "      <td>0.9784</td>\n",
       "    </tr>\n",
       "    <tr>\n",
       "      <th>2</th>\n",
       "      <td>obscene</td>\n",
       "      <td>0.9702</td>\n",
       "    </tr>\n",
       "    <tr>\n",
       "      <th>3</th>\n",
       "      <td>threat</td>\n",
       "      <td>0.9809</td>\n",
       "    </tr>\n",
       "    <tr>\n",
       "      <th>4</th>\n",
       "      <td>insult</td>\n",
       "      <td>0.9624</td>\n",
       "    </tr>\n",
       "    <tr>\n",
       "      <th>5</th>\n",
       "      <td>identity_hate</td>\n",
       "      <td>0.9736</td>\n",
       "    </tr>\n",
       "  </tbody>\n",
       "</table>\n",
       "</div>"
      ],
      "text/plain": [
       "          column  ROC AUC\n",
       "0          toxic   0.9557\n",
       "1   severe_toxic   0.9784\n",
       "2        obscene   0.9702\n",
       "3         threat   0.9809\n",
       "4         insult   0.9624\n",
       "5  identity_hate   0.9736"
      ]
     },
     "execution_count": 57,
     "metadata": {},
     "output_type": "execute_result"
    }
   ],
   "source": [
    "all_roc_auc_scores_ml.reset_index(drop = True)"
   ]
  },
  {
   "cell_type": "code",
   "execution_count": 58,
   "metadata": {},
   "outputs": [
    {
     "data": {
      "image/png": "[encoded data removed]",
      "text/plain": [
       "<Figure size 720x1008 with 6 Axes>"
      ]
     },
     "metadata": {},
     "output_type": "display_data"
    }
   ],
   "source": [
    "plot_roc_auc_grid(y_test, all_predictions_ml)"
   ]
  },
  {
   "cell_type": "code",
   "execution_count": 59,
   "metadata": {},
   "outputs": [
    {
     "name": "stdout",
     "output_type": "stream",
     "text": [
      "0.9702\n"
     ]
    }
   ],
   "source": [
    "print(round(all_roc_auc_scores_ml['ROC AUC'].mean(), 4))"
   ]
  },
  {
   "cell_type": "markdown",
   "metadata": {},
   "source": [
    "## Deep Learning - LSTM - Embedded Text"
   ]
  },
  {
   "cell_type": "markdown",
   "metadata": {},
   "source": [
    "*Adapted from https://towardsdatascience.com/classify-toxic-online-comments-with-lstm-and-glove-e455a58da9c7*"
   ]
  },
  {
   "cell_type": "markdown",
   "metadata": {},
   "source": [
    "### Preparation"
   ]
  },
  {
   "cell_type": "code",
   "execution_count": 60,
   "metadata": {},
   "outputs": [
    {
     "data": {
      "application/vnd.jupyter.widget-view+json": {
       "model_id": "df5e5fe67ded4742b27b6717213bdf4d",
       "version_major": 2,
       "version_minor": 0
      },
      "text/plain": [
       "  0%|          | 0/159571 [00:00<?, ?it/s]"
      ]
     },
     "metadata": {},
     "output_type": "display_data"
    },
    {
     "name": "stdout",
     "output_type": "stream",
     "text": [
      "clean_comment\n"
     ]
    }
   ],
   "source": [
    "X_train_list = parallelize_function(train, clean_comment, 'comment_text', the_stopwords, True)"
   ]
  },
  {
   "cell_type": "code",
   "execution_count": 61,
   "metadata": {},
   "outputs": [
    {
     "data": {
      "application/vnd.jupyter.widget-view+json": {
       "model_id": "5f8d73d0c3344c138f8e316a6ac0f6e3",
       "version_major": 2,
       "version_minor": 0
      },
      "text/plain": [
       "  0%|          | 0/63978 [00:00<?, ?it/s]"
      ]
     },
     "metadata": {},
     "output_type": "display_data"
    },
    {
     "name": "stdout",
     "output_type": "stream",
     "text": [
      "clean_comment\n"
     ]
    }
   ],
   "source": [
    "X_test_list = parallelize_function(test, clean_comment, 'comment_text', the_stopwords, True)"
   ]
  },
  {
   "cell_type": "code",
   "execution_count": 62,
   "metadata": {},
   "outputs": [],
   "source": [
    "MAX_NB_WORDS = 10000    # max number of words for tokenizer\n",
    "MAX_SEQUENCE_LENGTH = 200 # max length of each entry (sentence), including padding\n",
    "VALIDATION_SPLIT = 0.2   # data for validation\n",
    "EMBEDDING_DIM = 100      # embedding dimensions for word vectors (word2vec/GloVe) "
   ]
  },
  {
   "cell_type": "code",
   "execution_count": 63,
   "metadata": {},
   "outputs": [],
   "source": [
    "def prepare_data_for_learning(X_list, y, tokenizer = None):\n",
    "    \n",
    "    if tokenizer is None:\n",
    "        tokenizer = Tokenizer(num_words = MAX_NB_WORDS)\n",
    "        tokenizer.fit_on_texts(X_list)\n",
    "    \n",
    "    sequences = tokenizer.texts_to_sequences(X_list)\n",
    "    word_index = tokenizer.word_index\n",
    "    \n",
    "    print('Vocabulary size:', len(word_index))\n",
    "    print('')\n",
    "\n",
    "    data = pad_sequences(sequences, padding = 'post', maxlen = MAX_SEQUENCE_LENGTH)\n",
    "\n",
    "    print('Shape of data tensor:', data.shape)\n",
    "    print('Shape of label tensor:', y.shape)\n",
    "    \n",
    "    return(sequences, word_index, data, tokenizer)"
   ]
  },
  {
   "cell_type": "code",
   "execution_count": 64,
   "metadata": {},
   "outputs": [
    {
     "name": "stdout",
     "output_type": "stream",
     "text": [
      "Vocabulary size: 186486\n",
      "\n",
      "Shape of data tensor: (159571, 200)\n",
      "Shape of label tensor: (159571, 6)\n"
     ]
    }
   ],
   "source": [
    "sequences, word_index, prepared_data_train, tokenizer = prepare_data_for_learning(X_train_list, y_train)"
   ]
  },
  {
   "cell_type": "code",
   "execution_count": 65,
   "metadata": {},
   "outputs": [],
   "source": [
    "indices = np.arange(prepared_data_train.shape[0])\n",
    "np.random.shuffle(indices)\n",
    "\n",
    "data = prepared_data_train[indices]\n",
    "labels = y_train.iloc[indices, :]"
   ]
  },
  {
   "cell_type": "code",
   "execution_count": 66,
   "metadata": {},
   "outputs": [],
   "source": [
    "num_validation_samples = int(VALIDATION_SPLIT * data.shape[0])\n",
    "\n",
    "X_train_dl = data[: -num_validation_samples]\n",
    "y_train_dl = labels[: -num_validation_samples]\n",
    "\n",
    "X_val_dl = data[-num_validation_samples: ]\n",
    "y_val_dl = labels[-num_validation_samples: ]"
   ]
  },
  {
   "cell_type": "code",
   "execution_count": 67,
   "metadata": {},
   "outputs": [
    {
     "name": "stdout",
     "output_type": "stream",
     "text": [
      "Number of entries in each category:\n",
      "training:  toxic            12243\n",
      "severe_toxic      1262\n",
      "obscene           6751\n",
      "threat             385\n",
      "insult            6307\n",
      "identity_hate     1128\n",
      "dtype: int64\n",
      "validation:  toxic            3051\n",
      "severe_toxic      333\n",
      "obscene          1698\n",
      "threat             93\n",
      "insult           1570\n",
      "identity_hate     277\n",
      "dtype: int64\n"
     ]
    }
   ],
   "source": [
    "print('Number of entries in each category:')\n",
    "print('training: ', y_train_dl.sum(axis = 0))\n",
    "print('validation: ', y_val_dl.sum(axis = 0))"
   ]
  },
  {
   "cell_type": "markdown",
   "metadata": {},
   "source": [
    "#### Data Sample"
   ]
  },
  {
   "cell_type": "code",
   "execution_count": 68,
   "metadata": {},
   "outputs": [
    {
     "name": "stdout",
     "output_type": "stream",
     "text": [
      "Tokenized sentences: \n",
      " [ 20  12  85   4 341   0   0   0   0   0   0   0   0   0   0   0   0   0\n",
      "   0   0   0   0   0   0   0   0   0   0   0   0   0   0   0   0   0   0\n",
      "   0   0   0   0   0   0   0   0   0   0   0   0   0   0   0   0   0   0\n",
      "   0   0   0   0   0   0   0   0   0   0   0   0   0   0   0   0   0   0\n",
      "   0   0   0   0   0   0   0   0   0   0   0   0   0   0   0   0   0   0\n",
      "   0   0   0   0   0   0   0   0   0   0   0   0   0   0   0   0   0   0\n",
      "   0   0   0   0   0   0   0   0   0   0   0   0   0   0   0   0   0   0\n",
      "   0   0   0   0   0   0   0   0   0   0   0   0   0   0   0   0   0   0\n",
      "   0   0   0   0   0   0   0   0   0   0   0   0   0   0   0   0   0   0\n",
      "   0   0   0   0   0   0   0   0   0   0   0   0   0   0   0   0   0   0\n",
      "   0   0   0   0   0   0   0   0   0   0   0   0   0   0   0   0   0   0\n",
      "   0   0]\n",
      "\n",
      "One hot label: \n",
      " toxic            0\n",
      "severe_toxic     0\n",
      "obscene          0\n",
      "threat           0\n",
      "insult           0\n",
      "identity_hate    0\n",
      "Name: 91445, dtype: int64\n"
     ]
    }
   ],
   "source": [
    "sample_record_number = 11\n",
    "\n",
    "print('Tokenized sentences: \\n', data[sample_record_number])\n",
    "print('')\n",
    "print('One hot label: \\n', labels.iloc[sample_record_number, :])"
   ]
  },
  {
   "cell_type": "code",
   "execution_count": 69,
   "metadata": {},
   "outputs": [],
   "source": [
    "GLOVE_DIR = \"C:/Users/dmodj/Desktop/Dev/Tools/GloVe/glove.6B/glove.6B.\" + str(EMBEDDING_DIM) + \"d.txt\""
   ]
  },
  {
   "cell_type": "code",
   "execution_count": 70,
   "metadata": {},
   "outputs": [
    {
     "name": "stdout",
     "output_type": "stream",
     "text": [
      "Loading GloVe from: C:/Users/dmodj/Desktop/Dev/Tools/GloVe/glove.6B/glove.6B.100d.txt ...Done.\n",
      " Proceeding with Embedding Matrix... Completed\n"
     ]
    }
   ],
   "source": [
    "embeddings_index = {}\n",
    "file = open(GLOVE_DIR, encoding = 'utf-8')\n",
    "\n",
    "print('Loading GloVe from:', GLOVE_DIR,'...', end = '')\n",
    "for line in file:\n",
    "    values = line.split()\n",
    "    word = values[0]\n",
    "    embeddings_index[word] = np.asarray(values[1:], dtype = 'float32')\n",
    "file.close()\n",
    "print(\"Done.\\n Proceeding with Embedding Matrix...\", end = \"\")\n",
    "\n",
    "embedding_matrix = np.random.random((len(word_index) + 1, EMBEDDING_DIM))\n",
    "for word, i in word_index.items():\n",
    "    embedding_vector = embeddings_index.get(word)\n",
    "    if embedding_vector is not None:\n",
    "        embedding_matrix[i] = embedding_vector\n",
    "        \n",
    "print(\" Completed\")"
   ]
  },
  {
   "cell_type": "markdown",
   "metadata": {},
   "source": [
    "### Learning"
   ]
  },
  {
   "cell_type": "code",
   "execution_count": 71,
   "metadata": {},
   "outputs": [],
   "source": [
    "sequence_input = Input(shape = (MAX_SEQUENCE_LENGTH,), dtype = 'int32')\n",
    "\n",
    "embedding_layer = Embedding(len(word_index) + 1,\n",
    "                           EMBEDDING_DIM,\n",
    "                           weights = [embedding_matrix],\n",
    "                           input_length = MAX_SEQUENCE_LENGTH,\n",
    "                           trainable = False,\n",
    "                           name = 'embeddings')\n",
    "\n",
    "embedded_sequences = embedding_layer(sequence_input)"
   ]
  },
  {
   "cell_type": "code",
   "execution_count": 72,
   "metadata": {},
   "outputs": [],
   "source": [
    "#x = LSTM(units = 60, return_sequences = True, name = 'lstm_layer')(embedded_sequences)\n",
    "x = Bidirectional(LSTM(units = 60, return_sequences = True, name = 'lstm_layer'))(embedded_sequences)\n",
    "x = GlobalMaxPool1D()(x)\n",
    "x = Dropout(0.1)(x)\n",
    "x = Dense(50, activation=\"relu\")(x)\n",
    "x = Dropout(0.1)(x)\n",
    "\n",
    "preds = Dense(units = num_labels, activation = \"sigmoid\")(x)"
   ]
  },
  {
   "cell_type": "code",
   "execution_count": 73,
   "metadata": {},
   "outputs": [
    {
     "name": "stdout",
     "output_type": "stream",
     "text": [
      "Model: \"model\"\n",
      "_________________________________________________________________\n",
      "Layer (type)                 Output Shape              Param #   \n",
      "=================================================================\n",
      "input_1 (InputLayer)         [(None, 200)]             0         \n",
      "_________________________________________________________________\n",
      "embeddings (Embedding)       (None, 200, 100)          18648700  \n",
      "_________________________________________________________________\n",
      "bidirectional (Bidirectional (None, 200, 120)          77280     \n",
      "_________________________________________________________________\n",
      "global_max_pooling1d (Global (None, 120)               0         \n",
      "_________________________________________________________________\n",
      "dropout (Dropout)            (None, 120)               0         \n",
      "_________________________________________________________________\n",
      "dense (Dense)                (None, 50)                6050      \n",
      "_________________________________________________________________\n",
      "dropout_1 (Dropout)          (None, 50)                0         \n",
      "_________________________________________________________________\n",
      "dense_1 (Dense)              (None, 6)                 306       \n",
      "=================================================================\n",
      "Total params: 18,732,336\n",
      "Trainable params: 83,636\n",
      "Non-trainable params: 18,648,700\n",
      "_________________________________________________________________\n"
     ]
    }
   ],
   "source": [
    "model = Model(sequence_input, preds)\n",
    "\n",
    "model.compile(loss = 'binary_crossentropy',\n",
    "             optimizer ='adam',\n",
    "             metrics = ['accuracy'])\n",
    "\n",
    "model.summary()"
   ]
  },
  {
   "cell_type": "code",
   "execution_count": 74,
   "metadata": {},
   "outputs": [
    {
     "name": "stdout",
     "output_type": "stream",
     "text": [
      "('You must install pydot (`pip install pydot`) and install graphviz (see instructions at https://graphviz.gitlab.io/download/) ', 'for plot_model/model_to_dot to work.')\n"
     ]
    }
   ],
   "source": [
    "tf.keras.utils.plot_model(model)"
   ]
  },
  {
   "cell_type": "code",
   "execution_count": 75,
   "metadata": {},
   "outputs": [
    {
     "name": "stdout",
     "output_type": "stream",
     "text": [
      "Training progress:\n"
     ]
    }
   ],
   "source": [
    "print('Training progress:')"
   ]
  },
  {
   "cell_type": "code",
   "execution_count": 76,
   "metadata": {},
   "outputs": [
    {
     "name": "stdout",
     "output_type": "stream",
     "text": [
      "Deep learning - start time:  2021-07-18 18:18:21.534081\n"
     ]
    }
   ],
   "source": [
    "dl_start_time = datetime.datetime.now()\n",
    "print(\"Deep learning - start time: \", dl_start_time)"
   ]
  },
  {
   "cell_type": "code",
   "execution_count": 77,
   "metadata": {
    "scrolled": false
   },
   "outputs": [
    {
     "name": "stdout",
     "output_type": "stream",
     "text": [
      "Epoch 1/2\n",
      "3990/3990 [==============================] - 92s 22ms/step - loss: 0.0633 - accuracy: 0.9118 - val_loss: 0.0512 - val_accuracy: 0.9943\n",
      "Epoch 2/2\n",
      "3990/3990 [==============================] - 86s 22ms/step - loss: 0.0503 - accuracy: 0.9848 - val_loss: 0.0490 - val_accuracy: 0.9943\n"
     ]
    }
   ],
   "source": [
    "history = model.fit(X_train_dl, y_train_dl, epochs = 2, batch_size = 32, validation_data = (X_val_dl, y_val_dl))"
   ]
  },
  {
   "cell_type": "code",
   "execution_count": 78,
   "metadata": {},
   "outputs": [
    {
     "name": "stdout",
     "output_type": "stream",
     "text": [
      "Deep learning - end time:  2021-07-18 18:21:19.437454\n",
      "Deep learning - elapsed time:  0:02:57.903373\n"
     ]
    }
   ],
   "source": [
    "dl_end_time = datetime.datetime.now()\n",
    "print(\"Deep learning - end time: \", dl_end_time)\n",
    "print(\"Deep learning - elapsed time: \", dl_end_time - dl_start_time)"
   ]
  },
  {
   "cell_type": "code",
   "execution_count": 79,
   "metadata": {},
   "outputs": [
    {
     "data": {
      "image/png": "[encoded data removed]",
      "text/plain": [
       "<Figure size 432x288 with 1 Axes>"
      ]
     },
     "metadata": {},
     "output_type": "display_data"
    }
   ],
   "source": [
    "loss = history.history['loss']\n",
    "val_loss = history.history['val_loss']\n",
    "\n",
    "epochs = range(1, len(loss)+1)\n",
    "\n",
    "plt.plot(epochs, loss, label='Training loss')\n",
    "plt.plot(epochs, val_loss, label='Validation loss')\n",
    "\n",
    "plt.title('Training and validation loss')\n",
    "plt.xlabel('Epochs')\n",
    "plt.ylabel('Loss')\n",
    "plt.legend()\n",
    "\n",
    "plt.show();"
   ]
  },
  {
   "cell_type": "code",
   "execution_count": 80,
   "metadata": {},
   "outputs": [
    {
     "data": {
      "image/png": "[encoded data removed]",
      "text/plain": [
       "<Figure size 432x288 with 1 Axes>"
      ]
     },
     "metadata": {},
     "output_type": "display_data"
    }
   ],
   "source": [
    "accuracy = history.history['accuracy']\n",
    "val_accuracy = history.history['val_accuracy']\n",
    "\n",
    "plt.plot(epochs, accuracy, label='Training accuracy')\n",
    "plt.plot(epochs, val_accuracy, label='Validation accuracy')\n",
    "\n",
    "plt.title('Training and validation accuracy')\n",
    "plt.ylabel('Accuracy')\n",
    "plt.xlabel('Epochs')\n",
    "plt.legend()\n",
    "\n",
    "plt.show();"
   ]
  },
  {
   "cell_type": "code",
   "execution_count": 81,
   "metadata": {},
   "outputs": [
    {
     "name": "stdout",
     "output_type": "stream",
     "text": [
      "Saved model to disk\n"
     ]
    }
   ],
   "source": [
    "# serialize model to JSON\n",
    "\n",
    "model_json = model.to_json()\n",
    "with open(\"model.json\", \"w\") as json_file:\n",
    "    json_file.write(model_json)\n",
    "    \n",
    "# serialize weights to HDF5\n",
    "model.save_weights(\"model.h5\")\n",
    "\n",
    "print(\"Saved model to disk\")"
   ]
  },
  {
   "cell_type": "markdown",
   "metadata": {},
   "source": [
    "### Prediction"
   ]
  },
  {
   "cell_type": "code",
   "execution_count": 82,
   "metadata": {},
   "outputs": [
    {
     "name": "stdout",
     "output_type": "stream",
     "text": [
      "Loaded model from disk\n"
     ]
    }
   ],
   "source": [
    "# load JSON and create model\n",
    "\n",
    "json_file = open('model.json', 'r')\n",
    "loaded_model_json = json_file.read()\n",
    "json_file.close()\n",
    "loaded_model = model_from_json(loaded_model_json)\n",
    "\n",
    "# load weights into new model\n",
    "loaded_model.load_weights(\"model.h5\")\n",
    "\n",
    "print(\"Loaded model from disk\")"
   ]
  },
  {
   "cell_type": "code",
   "execution_count": 83,
   "metadata": {},
   "outputs": [
    {
     "name": "stdout",
     "output_type": "stream",
     "text": [
      "Vocabulary size: 186486\n",
      "\n",
      "Shape of data tensor: (63978, 200)\n",
      "Shape of label tensor: (63978, 6)\n"
     ]
    }
   ],
   "source": [
    "sequences_test, word_index_test, prepared_data_test, _ = prepare_data_for_learning(X_test_list, y_test, tokenizer)"
   ]
  },
  {
   "cell_type": "code",
   "execution_count": 84,
   "metadata": {},
   "outputs": [],
   "source": [
    "x_test_dl = prepared_data_test"
   ]
  },
  {
   "cell_type": "code",
   "execution_count": 85,
   "metadata": {},
   "outputs": [],
   "source": [
    "predict_prob_test_dl = loaded_model.predict(x_test_dl) "
   ]
  },
  {
   "cell_type": "code",
   "execution_count": 86,
   "metadata": {},
   "outputs": [],
   "source": [
    "all_scores_dl = pd.DataFrame()\n",
    "\n",
    "for i in range(num_labels):\n",
    "    this_score = pd.DataFrame({\n",
    "        'column' : [label_columns[i]], \n",
    "        'ROC AUC' : [round(roc_auc_score(y_test.iloc[:, i], predict_prob_test_dl[:, i]), 4)]\n",
    "    })\n",
    "    \n",
    "    all_scores_dl = pd.concat([all_scores_dl, this_score], axis = 0)\n",
    "\n",
    "all_scores_dl.reset_index(drop = True, inplace = True)"
   ]
  },
  {
   "cell_type": "code",
   "execution_count": 87,
   "metadata": {},
   "outputs": [
    {
     "name": "stdout",
     "output_type": "stream",
     "text": [
      "PREDICT\n",
      "Label 0\n",
      "Label 1\n",
      "Label 2\n",
      "Label 3\n",
      "Label 4\n",
      "Label 5\n"
     ]
    }
   ],
   "source": [
    "all_predictions_dl = [None] * num_labels\n",
    "all_roc_auc_scores_dl = pd.DataFrame()\n",
    "\n",
    "print('PREDICT')\n",
    "\n",
    "for i in range(num_labels):\n",
    "    print('Label ' + str(i))\n",
    "    \n",
    "    this_predict_proba = predict_prob_test_dl[:, i]\n",
    "    all_predictions_dl[i] = this_predict_proba\n",
    "    \n",
    "    this_roc_auc_score = pd.DataFrame({\n",
    "        'column' : [label_columns[i]], \n",
    "        'ROC AUC' : [round(roc_auc_score(y_test.iloc[:, i], this_predict_proba), 4)]\n",
    "    })\n",
    "    all_roc_auc_scores_dl = pd.concat([all_roc_auc_scores_dl, this_roc_auc_score], axis = 0)"
   ]
  },
  {
   "cell_type": "code",
   "execution_count": 88,
   "metadata": {},
   "outputs": [
    {
     "data": {
      "text/html": [
       "<div>\n",
       "<style scoped>\n",
       "    .dataframe tbody tr th:only-of-type {\n",
       "        vertical-align: middle;\n",
       "    }\n",
       "\n",
       "    .dataframe tbody tr th {\n",
       "        vertical-align: top;\n",
       "    }\n",
       "\n",
       "    .dataframe thead th {\n",
       "        text-align: right;\n",
       "    }\n",
       "</style>\n",
       "<table border=\"1\" class=\"dataframe\">\n",
       "  <thead>\n",
       "    <tr style=\"text-align: right;\">\n",
       "      <th></th>\n",
       "      <th>column</th>\n",
       "      <th>ROC AUC</th>\n",
       "    </tr>\n",
       "  </thead>\n",
       "  <tbody>\n",
       "    <tr>\n",
       "      <th>0</th>\n",
       "      <td>toxic</td>\n",
       "      <td>0.9595</td>\n",
       "    </tr>\n",
       "    <tr>\n",
       "      <th>1</th>\n",
       "      <td>severe_toxic</td>\n",
       "      <td>0.9885</td>\n",
       "    </tr>\n",
       "    <tr>\n",
       "      <th>2</th>\n",
       "      <td>obscene</td>\n",
       "      <td>0.9732</td>\n",
       "    </tr>\n",
       "    <tr>\n",
       "      <th>3</th>\n",
       "      <td>threat</td>\n",
       "      <td>0.9839</td>\n",
       "    </tr>\n",
       "    <tr>\n",
       "      <th>4</th>\n",
       "      <td>insult</td>\n",
       "      <td>0.9661</td>\n",
       "    </tr>\n",
       "    <tr>\n",
       "      <th>5</th>\n",
       "      <td>identity_hate</td>\n",
       "      <td>0.9759</td>\n",
       "    </tr>\n",
       "  </tbody>\n",
       "</table>\n",
       "</div>"
      ],
      "text/plain": [
       "          column  ROC AUC\n",
       "0          toxic   0.9595\n",
       "1   severe_toxic   0.9885\n",
       "2        obscene   0.9732\n",
       "3         threat   0.9839\n",
       "4         insult   0.9661\n",
       "5  identity_hate   0.9759"
      ]
     },
     "execution_count": 88,
     "metadata": {},
     "output_type": "execute_result"
    }
   ],
   "source": [
    "all_roc_auc_scores_dl.reset_index(drop = True)"
   ]
  },
  {
   "cell_type": "code",
   "execution_count": 89,
   "metadata": {},
   "outputs": [
    {
     "data": {
      "image/png": "[encoded data removed]",
      "text/plain": [
       "<Figure size 720x1008 with 6 Axes>"
      ]
     },
     "metadata": {},
     "output_type": "display_data"
    }
   ],
   "source": [
    "plot_roc_auc_grid(y_test, all_predictions_dl)"
   ]
  },
  {
   "cell_type": "code",
   "execution_count": 90,
   "metadata": {},
   "outputs": [
    {
     "name": "stdout",
     "output_type": "stream",
     "text": [
      "0.9745\n"
     ]
    }
   ],
   "source": [
    "print(round(all_scores_dl['ROC AUC'].mean(), 4))"
   ]
  },
  {
   "cell_type": "markdown",
   "metadata": {},
   "source": [
    "## Classic Machine Learning - Ensemble - Text Statistics"
   ]
  },
  {
   "cell_type": "markdown",
   "metadata": {},
   "source": [
    "### Create the Component Models"
   ]
  },
  {
   "cell_type": "code",
   "execution_count": 152,
   "metadata": {},
   "outputs": [],
   "source": [
    "xgbc_textstat = LGBMC(\n",
    "        boosting_type = 'gbdt',\n",
    "        objective = 'binary',\n",
    "        eval_metric = 'logloss',\n",
    "           use_label_encoder = False,\n",
    "           n_estimators = 100, \n",
    "           max_depth = 2,\n",
    "           learning_rate = 0.3,\n",
    "           n_jobs = num_cores)"
   ]
  },
  {
   "cell_type": "code",
   "execution_count": 153,
   "metadata": {},
   "outputs": [],
   "source": [
    "log_reg_textstat = LogReg(C = 1,\n",
    "                          n_jobs = num_cores,\n",
    "                          class_weight = 'balanced')"
   ]
  },
  {
   "cell_type": "code",
   "execution_count": 154,
   "metadata": {},
   "outputs": [],
   "source": [
    "svc_textstat_0 = SVC(C = 0.01,\n",
    "                     random_state = 43)\n",
    "svc_textstat = CalibratedClassifierCV(svc_textstat_0,\n",
    "                                      n_jobs = num_cores) "
   ]
  },
  {
   "cell_type": "code",
   "execution_count": 155,
   "metadata": {},
   "outputs": [],
   "source": [
    "rfc_textstat = LGBMC(boosting_type = 'rf',\n",
    "                     objective = 'binary',\n",
    "                     n_estimators = 125,\n",
    "                     max_depth = 10,\n",
    "                     n_jobs = num_cores,\n",
    "                    feature_fraction = 0.9,\n",
    "                     bagging_fraction = 0.8,\n",
    "                    bagging_freq = 5)"
   ]
  },
  {
   "cell_type": "markdown",
   "metadata": {},
   "source": [
    "### Cross-validate the ensemble"
   ]
  },
  {
   "cell_type": "code",
   "execution_count": 156,
   "metadata": {},
   "outputs": [
    {
     "name": "stdout",
     "output_type": "stream",
     "text": [
      "TRAIN\n",
      "Label 0\n",
      "Label 1\n",
      "Label 2\n",
      "Label 3\n",
      "Label 4\n",
      "Label 5\n"
     ]
    }
   ],
   "source": [
    "all_ensembles_textstat = [None] * num_labels\n",
    "print('TRAIN')\n",
    "    \n",
    "for i in range(num_labels):\n",
    "    print('Label ' + str(i))\n",
    "    this_ensemble = VotingClassifier(estimators = [('xgbc', xgbc_textstat), \n",
    "                                                   ('log_reg', log_reg_textstat),\n",
    "                                                   ('svc', svc_textstat),\n",
    "                                                   ('rfc', rfc_textstat)],\n",
    "                                     voting = 'soft',\n",
    "                                    n_jobs = num_cores)\n",
    "    this_ensemble.fit(X_train_char, y_train.iloc[:, i])\n",
    "    all_ensembles_textstat[i] = this_ensemble"
   ]
  },
  {
   "cell_type": "code",
   "execution_count": 157,
   "metadata": {},
   "outputs": [
    {
     "name": "stdout",
     "output_type": "stream",
     "text": [
      "CV\n",
      "Label 0\n"
     ]
    },
    {
     "name": "stderr",
     "output_type": "stream",
     "text": [
      "[Parallel(n_jobs=8)]: Using backend LokyBackend with 8 concurrent workers.\n",
      "[Parallel(n_jobs=8)]: Done   3 out of   3 | elapsed:    2.9s finished\n",
      "[Parallel(n_jobs=8)]: Using backend LokyBackend with 8 concurrent workers.\n"
     ]
    },
    {
     "name": "stdout",
     "output_type": "stream",
     "text": [
      "     ROC AUC: 0.9899\n",
      "Label 1\n"
     ]
    },
    {
     "name": "stderr",
     "output_type": "stream",
     "text": [
      "[Parallel(n_jobs=8)]: Done   3 out of   3 | elapsed:    2.8s finished\n",
      "[Parallel(n_jobs=8)]: Using backend LokyBackend with 8 concurrent workers.\n"
     ]
    },
    {
     "name": "stdout",
     "output_type": "stream",
     "text": [
      "     ROC AUC: 0.9835\n",
      "Label 2\n"
     ]
    },
    {
     "name": "stderr",
     "output_type": "stream",
     "text": [
      "[Parallel(n_jobs=8)]: Done   3 out of   3 | elapsed:    3.1s finished\n"
     ]
    },
    {
     "name": "stdout",
     "output_type": "stream",
     "text": [
      "     ROC AUC: 0.9882\n",
      "Label 3\n"
     ]
    },
    {
     "name": "stderr",
     "output_type": "stream",
     "text": [
      "[Parallel(n_jobs=8)]: Using backend LokyBackend with 8 concurrent workers.\n",
      "[Parallel(n_jobs=8)]: Done   3 out of   3 | elapsed:    3.1s finished\n"
     ]
    },
    {
     "name": "stdout",
     "output_type": "stream",
     "text": [
      "     ROC AUC: 0.9658\n",
      "Label 4\n"
     ]
    },
    {
     "name": "stderr",
     "output_type": "stream",
     "text": [
      "[Parallel(n_jobs=8)]: Using backend LokyBackend with 8 concurrent workers.\n",
      "[Parallel(n_jobs=8)]: Done   3 out of   3 | elapsed:    2.9s finished\n"
     ]
    },
    {
     "name": "stdout",
     "output_type": "stream",
     "text": [
      "     ROC AUC: 0.9821\n",
      "Label 5\n"
     ]
    },
    {
     "name": "stderr",
     "output_type": "stream",
     "text": [
      "[Parallel(n_jobs=8)]: Using backend LokyBackend with 8 concurrent workers.\n",
      "[Parallel(n_jobs=8)]: Done   3 out of   3 | elapsed:    2.8s finished\n"
     ]
    },
    {
     "name": "stdout",
     "output_type": "stream",
     "text": [
      "     ROC AUC: 0.9616\n"
     ]
    }
   ],
   "source": [
    "all_cv_results_textstat = pd.DataFrame()\n",
    "print('CV')\n",
    "\n",
    "for i in range(num_labels):\n",
    "    print('Label ' + str(i))\n",
    "    \n",
    "    these_cv_scores = cross_val_score(estimator = all_ensembles[i], \n",
    "                                     X = X_train_char, \n",
    "                                     y = y_train.iloc[:, i],\n",
    "                                     cv = 3,\n",
    "                                     n_jobs = num_cores,\n",
    "                                     scoring = 'roc_auc',\n",
    "                                     verbose = 1)    \n",
    "    these_cv_scores_mean = round(these_cv_scores.mean(), 4)\n",
    "    print('     ROC AUC: ' + str(these_cv_scores_mean))\n",
    "\n",
    "    this_cv_result = pd.DataFrame({ 'Label' : [label_columns[i]], 'ROC AUC' : [these_cv_scores_mean] })        \n",
    "    all_cv_results_textstat = pd.concat([all_cv_results_textstat, this_cv_result], axis = 0)"
   ]
  },
  {
   "cell_type": "code",
   "execution_count": 158,
   "metadata": {},
   "outputs": [
    {
     "data": {
      "text/html": [
       "<div>\n",
       "<style scoped>\n",
       "    .dataframe tbody tr th:only-of-type {\n",
       "        vertical-align: middle;\n",
       "    }\n",
       "\n",
       "    .dataframe tbody tr th {\n",
       "        vertical-align: top;\n",
       "    }\n",
       "\n",
       "    .dataframe thead th {\n",
       "        text-align: right;\n",
       "    }\n",
       "</style>\n",
       "<table border=\"1\" class=\"dataframe\">\n",
       "  <thead>\n",
       "    <tr style=\"text-align: right;\">\n",
       "      <th></th>\n",
       "      <th>Label</th>\n",
       "      <th>ROC AUC</th>\n",
       "    </tr>\n",
       "  </thead>\n",
       "  <tbody>\n",
       "    <tr>\n",
       "      <th>0</th>\n",
       "      <td>toxic</td>\n",
       "      <td>0.9899</td>\n",
       "    </tr>\n",
       "    <tr>\n",
       "      <th>0</th>\n",
       "      <td>severe_toxic</td>\n",
       "      <td>0.9835</td>\n",
       "    </tr>\n",
       "    <tr>\n",
       "      <th>0</th>\n",
       "      <td>obscene</td>\n",
       "      <td>0.9882</td>\n",
       "    </tr>\n",
       "    <tr>\n",
       "      <th>0</th>\n",
       "      <td>threat</td>\n",
       "      <td>0.9658</td>\n",
       "    </tr>\n",
       "    <tr>\n",
       "      <th>0</th>\n",
       "      <td>insult</td>\n",
       "      <td>0.9821</td>\n",
       "    </tr>\n",
       "    <tr>\n",
       "      <th>0</th>\n",
       "      <td>identity_hate</td>\n",
       "      <td>0.9616</td>\n",
       "    </tr>\n",
       "  </tbody>\n",
       "</table>\n",
       "</div>"
      ],
      "text/plain": [
       "           Label  ROC AUC\n",
       "0          toxic   0.9899\n",
       "0   severe_toxic   0.9835\n",
       "0        obscene   0.9882\n",
       "0         threat   0.9658\n",
       "0         insult   0.9821\n",
       "0  identity_hate   0.9616"
      ]
     },
     "execution_count": 158,
     "metadata": {},
     "output_type": "execute_result"
    }
   ],
   "source": [
    "all_cv_results_textstat"
   ]
  },
  {
   "cell_type": "code",
   "execution_count": 159,
   "metadata": {},
   "outputs": [
    {
     "name": "stdout",
     "output_type": "stream",
     "text": [
      "0.9785\n"
     ]
    }
   ],
   "source": [
    "print(round(all_cv_results_textstat['ROC AUC'].mean(), 4))"
   ]
  },
  {
   "cell_type": "markdown",
   "metadata": {},
   "source": [
    "### Generate the Test Predictions"
   ]
  },
  {
   "cell_type": "code",
   "execution_count": 160,
   "metadata": {},
   "outputs": [
    {
     "name": "stdout",
     "output_type": "stream",
     "text": [
      "PREDICT\n",
      "Label 0\n",
      "Label 1\n",
      "Label 2\n",
      "Label 3\n",
      "Label 4\n",
      "Label 5\n"
     ]
    }
   ],
   "source": [
    "all_predictions_ml_textstat = [None] * num_labels\n",
    "all_roc_auc_scores_ml_textstat = pd.DataFrame()\n",
    "\n",
    "print('PREDICT')\n",
    "\n",
    "for i in range(num_labels):\n",
    "    print('Label ' + str(i))\n",
    "    \n",
    "    this_predict_proba = all_ensembles_textstat[i].predict_proba(X_test_char)\n",
    "    all_predictions_ml_textstat[i] = this_predict_proba\n",
    "    \n",
    "    this_roc_auc_score = pd.DataFrame({\n",
    "        'column' : [label_columns[i]], \n",
    "        'ROC AUC' : [round(roc_auc_score(y_test.iloc[:, i], this_predict_proba[:, 1]), 4)]\n",
    "    })\n",
    "    all_roc_auc_scores_ml_textstat = pd.concat([all_roc_auc_scores_ml_textstat, this_roc_auc_score], axis = 0)"
   ]
  },
  {
   "cell_type": "code",
   "execution_count": 161,
   "metadata": {},
   "outputs": [
    {
     "data": {
      "text/html": [
       "<div>\n",
       "<style scoped>\n",
       "    .dataframe tbody tr th:only-of-type {\n",
       "        vertical-align: middle;\n",
       "    }\n",
       "\n",
       "    .dataframe tbody tr th {\n",
       "        vertical-align: top;\n",
       "    }\n",
       "\n",
       "    .dataframe thead th {\n",
       "        text-align: right;\n",
       "    }\n",
       "</style>\n",
       "<table border=\"1\" class=\"dataframe\">\n",
       "  <thead>\n",
       "    <tr style=\"text-align: right;\">\n",
       "      <th></th>\n",
       "      <th>column</th>\n",
       "      <th>ROC AUC</th>\n",
       "    </tr>\n",
       "  </thead>\n",
       "  <tbody>\n",
       "    <tr>\n",
       "      <th>0</th>\n",
       "      <td>toxic</td>\n",
       "      <td>0.9583</td>\n",
       "    </tr>\n",
       "    <tr>\n",
       "      <th>1</th>\n",
       "      <td>severe_toxic</td>\n",
       "      <td>0.9800</td>\n",
       "    </tr>\n",
       "    <tr>\n",
       "      <th>2</th>\n",
       "      <td>obscene</td>\n",
       "      <td>0.9696</td>\n",
       "    </tr>\n",
       "    <tr>\n",
       "      <th>3</th>\n",
       "      <td>threat</td>\n",
       "      <td>0.9498</td>\n",
       "    </tr>\n",
       "    <tr>\n",
       "      <th>4</th>\n",
       "      <td>insult</td>\n",
       "      <td>0.9634</td>\n",
       "    </tr>\n",
       "    <tr>\n",
       "      <th>5</th>\n",
       "      <td>identity_hate</td>\n",
       "      <td>0.9424</td>\n",
       "    </tr>\n",
       "  </tbody>\n",
       "</table>\n",
       "</div>"
      ],
      "text/plain": [
       "          column  ROC AUC\n",
       "0          toxic   0.9583\n",
       "1   severe_toxic   0.9800\n",
       "2        obscene   0.9696\n",
       "3         threat   0.9498\n",
       "4         insult   0.9634\n",
       "5  identity_hate   0.9424"
      ]
     },
     "execution_count": 161,
     "metadata": {},
     "output_type": "execute_result"
    }
   ],
   "source": [
    "all_roc_auc_scores_ml_textstat.reset_index(drop = True)"
   ]
  },
  {
   "cell_type": "code",
   "execution_count": 162,
   "metadata": {},
   "outputs": [
    {
     "data": {
      "image/png": "[encoded data removed]",
      "text/plain": [
       "<Figure size 720x1008 with 6 Axes>"
      ]
     },
     "metadata": {},
     "output_type": "display_data"
    }
   ],
   "source": [
    "plot_roc_auc_grid(y_test, all_predictions_ml_textstat)"
   ]
  },
  {
   "cell_type": "code",
   "execution_count": 163,
   "metadata": {},
   "outputs": [
    {
     "name": "stdout",
     "output_type": "stream",
     "text": [
      "0.9606\n"
     ]
    }
   ],
   "source": [
    "print(round(all_roc_auc_scores_ml_textstat['ROC AUC'].mean(), 4))"
   ]
  },
  {
   "cell_type": "markdown",
   "metadata": {},
   "source": [
    "## Classic ML (w/ Vectorized Text) + DL + Classic ML (w/ Text Statistics):  Pseudo-ensemble"
   ]
  },
  {
   "cell_type": "markdown",
   "metadata": {},
   "source": [
    "### Generate the Test Predictions"
   ]
  },
  {
   "cell_type": "code",
   "execution_count": 164,
   "metadata": {},
   "outputs": [],
   "source": [
    "pseudo_ensemble_predictions = [None] * num_labels\n",
    "\n",
    "for i in range(num_labels):\n",
    "    these_ml_predictions = all_predictions_ml[i][:, 1]\n",
    "    these_dl_predictions = all_predictions_dl[i]\n",
    "    these_dl_predictions_textstat = all_predictions_dl[i]\n",
    "    \n",
    "    pseudo_ensemble_predictions[i] = (these_ml_predictions + these_dl_predictions + these_dl_predictions_textstat) / 3"
   ]
  },
  {
   "cell_type": "code",
   "execution_count": 165,
   "metadata": {},
   "outputs": [
    {
     "name": "stdout",
     "output_type": "stream",
     "text": [
      "PREDICT\n",
      "Label 0\n",
      "Label 1\n",
      "Label 2\n",
      "Label 3\n",
      "Label 4\n",
      "Label 5\n"
     ]
    }
   ],
   "source": [
    "all_roc_auc_scores_2 = pd.DataFrame()\n",
    "\n",
    "print('PREDICT')\n",
    "\n",
    "for i in range(num_labels):\n",
    "    print('Label ' + str(i))\n",
    "    this_predict_proba = pseudo_ensemble_predictions[i] \n",
    "    \n",
    "    this_roc_auc_score = pd.DataFrame({\n",
    "        'column' : [label_columns[i]], \n",
    "        'ROC AUC' : [round(roc_auc_score(y_test.iloc[:, i], this_predict_proba), 4)]\n",
    "    })\n",
    "    all_roc_auc_scores_2 = pd.concat([all_roc_auc_scores_2, this_roc_auc_score], axis = 0)"
   ]
  },
  {
   "cell_type": "code",
   "execution_count": 166,
   "metadata": {},
   "outputs": [
    {
     "data": {
      "text/html": [
       "<div>\n",
       "<style scoped>\n",
       "    .dataframe tbody tr th:only-of-type {\n",
       "        vertical-align: middle;\n",
       "    }\n",
       "\n",
       "    .dataframe tbody tr th {\n",
       "        vertical-align: top;\n",
       "    }\n",
       "\n",
       "    .dataframe thead th {\n",
       "        text-align: right;\n",
       "    }\n",
       "</style>\n",
       "<table border=\"1\" class=\"dataframe\">\n",
       "  <thead>\n",
       "    <tr style=\"text-align: right;\">\n",
       "      <th></th>\n",
       "      <th>column</th>\n",
       "      <th>ROC AUC</th>\n",
       "    </tr>\n",
       "  </thead>\n",
       "  <tbody>\n",
       "    <tr>\n",
       "      <th>0</th>\n",
       "      <td>toxic</td>\n",
       "      <td>0.9616</td>\n",
       "    </tr>\n",
       "    <tr>\n",
       "      <th>1</th>\n",
       "      <td>severe_toxic</td>\n",
       "      <td>0.9870</td>\n",
       "    </tr>\n",
       "    <tr>\n",
       "      <th>2</th>\n",
       "      <td>obscene</td>\n",
       "      <td>0.9750</td>\n",
       "    </tr>\n",
       "    <tr>\n",
       "      <th>3</th>\n",
       "      <td>threat</td>\n",
       "      <td>0.9856</td>\n",
       "    </tr>\n",
       "    <tr>\n",
       "      <th>4</th>\n",
       "      <td>insult</td>\n",
       "      <td>0.9684</td>\n",
       "    </tr>\n",
       "    <tr>\n",
       "      <th>5</th>\n",
       "      <td>identity_hate</td>\n",
       "      <td>0.9790</td>\n",
       "    </tr>\n",
       "  </tbody>\n",
       "</table>\n",
       "</div>"
      ],
      "text/plain": [
       "          column  ROC AUC\n",
       "0          toxic   0.9616\n",
       "1   severe_toxic   0.9870\n",
       "2        obscene   0.9750\n",
       "3         threat   0.9856\n",
       "4         insult   0.9684\n",
       "5  identity_hate   0.9790"
      ]
     },
     "execution_count": 166,
     "metadata": {},
     "output_type": "execute_result"
    }
   ],
   "source": [
    "all_roc_auc_scores_2.reset_index(drop = True)"
   ]
  },
  {
   "cell_type": "code",
   "execution_count": 167,
   "metadata": {},
   "outputs": [
    {
     "name": "stdout",
     "output_type": "stream",
     "text": [
      "0.9761\n"
     ]
    }
   ],
   "source": [
    "print(round(all_roc_auc_scores_2['ROC AUC'].mean(), 4))"
   ]
  },
  {
   "cell_type": "code",
   "execution_count": null,
   "metadata": {},
   "outputs": [],
   "source": []
  }
 ],
 "metadata": {
  "kernelspec": {
   "display_name": "Python 3",
   "language": "python",
   "name": "python3"
  },
  "language_info": {
   "codemirror_mode": {
    "name": "ipython",
    "version": 3
   },
   "file_extension": ".py",
   "mimetype": "text/x-python",
   "name": "python",
   "nbconvert_exporter": "python",
   "pygments_lexer": "ipython3",
   "version": "3.8.8"
  }
 },
 "nbformat": 4,
 "nbformat_minor": 4
}
