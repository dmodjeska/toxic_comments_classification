{
 "cells": [
  {
   "cell_type": "code",
   "execution_count": 754,
   "metadata": {},
   "outputs": [],
   "source": [
    "import numpy as np\n",
    "import pandas as pd\n",
    "import re\n",
    "import seaborn as sns\n",
    "import textstat\n",
    "\n",
    "from matplotlib import pyplot as plt\n",
    "from nltk.sentiment import SentimentIntensityAnalyzer\n",
    "from tqdm.notebook import tqdm\n",
    "\n",
    "from sklearn.decomposition import PCA\n",
    "from sklearn.discriminant_analysis import QuadraticDiscriminantAnalysis as QDA\n",
    "from sklearn.ensemble import RandomForestClassifier as RFC\n",
    "from sklearn.ensemble import VotingClassifier\n",
    "from sklearn.linear_model import LogisticRegression as LogReg\n",
    "from sklearn.linear_model import SGDClassifier as SGD\n",
    "from sklearn.model_selection import cross_val_score, GridSearchCV\n",
    "from sklearn.metrics import accuracy_score, f1_score, roc_auc_score\n",
    "from sklearn.svm import LinearSVC as SVC\n",
    "from sklearn.utils import class_weight\n",
    "from xgboost import XGBClassifier as XGBC\n",
    "\n",
    "import tensorflow as tf\n",
    "from tensorflow.keras import regularizers, initializers, optimizers, callbacks\n",
    "from tensorflow.keras.preprocessing.sequence import pad_sequences\n",
    "from tensorflow.keras.preprocessing.text import Tokenizer\n",
    "from keras.utils.np_utils import to_categorical\n",
    "from tensorflow.keras.layers import *\n",
    "from tensorflow.keras.models import Model, model_from_json\n",
    "\n",
    "import pydot\n",
    "import pydotplus\n",
    "import graphviz"
   ]
  },
  {
   "cell_type": "code",
   "execution_count": 755,
   "metadata": {},
   "outputs": [],
   "source": [
    "import multiprocessing\n",
    "from joblib import Parallel, delayed\n",
    "\n",
    "num_cores = int(multiprocessing.cpu_count() -1)"
   ]
  },
  {
   "cell_type": "code",
   "execution_count": 756,
   "metadata": {},
   "outputs": [],
   "source": [
    "%matplotlib inline\n",
    "\n",
    "pd.set_option('display.max_colwidth', 200)"
   ]
  },
  {
   "cell_type": "markdown",
   "metadata": {},
   "source": [
    "### Tools for Multiprocessing"
   ]
  },
  {
   "cell_type": "code",
   "execution_count": 102,
   "metadata": {},
   "outputs": [],
   "source": [
    "def parallel_function_wrapper(my_function, parms_tuple):\n",
    "        \n",
    "    # call the given function according to the correct number of parameters\n",
    "    if (parms_tuple[2] is not None) & (parms_tuple[3] is not None):\n",
    "        result = my_function(parms_tuple[1], parms_tuple[2], parms_tuple[3]) \n",
    "    elif parms_tuple[2] is not None:\n",
    "        result = my_function(parms_tuple[1], parms_tuple[2]) \n",
    "    else: \n",
    "        result = my_function(parms_tuple[1])     \n",
    "\n",
    "    # return the input ID with the return values\n",
    "    return_tuple = (parms_tuple[0], result)    \n",
    "    return(return_tuple)"
   ]
  },
  {
   "cell_type": "code",
   "execution_count": 134,
   "metadata": {},
   "outputs": [],
   "source": [
    "def parallelize_function(data, my_function, value_field, parameter_2 = None, parameter_3 = None):\n",
    "    \n",
    "    # prepare parameters for parallelized function call (including the row names for later sorting)\n",
    "    data_list_with_row_names = list(data.apply(lambda x: (x.name, x[value_field], parameter_2, parameter_3),\n",
    "                                               axis = 1))\n",
    "\n",
    "    # prepare the progress bar\n",
    "    inputs = tqdm(data_list_with_row_names)\n",
    "\n",
    "    # execute the given function using multiprocessing\n",
    "    if __name__ == \"__main__\":\n",
    "        result = Parallel(n_jobs = num_cores)(delayed(parallel_function_wrapper)(my_function, value) for value in inputs)\n",
    "    \n",
    "    # sort the results using row names\n",
    "    result_df = pd.DataFrame(result, columns = ('row_name', 'value'))\n",
    "    result_df['row_name'] = result_df['row_name'].astype(int)\n",
    "    result_df = result_df.sort_values(by = 'row_name') \n",
    "    \n",
    "    return(result_df['value'].values)"
   ]
  },
  {
   "cell_type": "markdown",
   "metadata": {},
   "source": [
    "## Load Data"
   ]
  },
  {
   "cell_type": "code",
   "execution_count": 760,
   "metadata": {},
   "outputs": [],
   "source": [
    "train = pd.read_csv('data/train.csv')\n",
    "test = pd.read_csv('data/test.csv')\n",
    "test_labels = pd.read_csv('data/test_labels.csv')"
   ]
  },
  {
   "cell_type": "code",
   "execution_count": 761,
   "metadata": {},
   "outputs": [
    {
     "data": {
      "text/plain": [
       "(159571, 8)"
      ]
     },
     "execution_count": 761,
     "metadata": {},
     "output_type": "execute_result"
    }
   ],
   "source": [
    "train.shape"
   ]
  },
  {
   "cell_type": "code",
   "execution_count": 762,
   "metadata": {},
   "outputs": [
    {
     "data": {
      "text/plain": [
       "(153164, 2)"
      ]
     },
     "execution_count": 762,
     "metadata": {},
     "output_type": "execute_result"
    }
   ],
   "source": [
    "test.shape"
   ]
  },
  {
   "cell_type": "code",
   "execution_count": 763,
   "metadata": {},
   "outputs": [
    {
     "data": {
      "text/plain": [
       "(153164, 7)"
      ]
     },
     "execution_count": 763,
     "metadata": {},
     "output_type": "execute_result"
    }
   ],
   "source": [
    "test_labels.shape"
   ]
  },
  {
   "cell_type": "code",
   "execution_count": 764,
   "metadata": {},
   "outputs": [
    {
     "data": {
      "text/plain": [
       "0"
      ]
     },
     "execution_count": 764,
     "metadata": {},
     "output_type": "execute_result"
    }
   ],
   "source": [
    "train.isnull().sum().sum()"
   ]
  },
  {
   "cell_type": "code",
   "execution_count": 765,
   "metadata": {},
   "outputs": [
    {
     "data": {
      "text/plain": [
       "0"
      ]
     },
     "execution_count": 765,
     "metadata": {},
     "output_type": "execute_result"
    }
   ],
   "source": [
    "test.isnull().sum().sum()"
   ]
  },
  {
   "cell_type": "code",
   "execution_count": 766,
   "metadata": {},
   "outputs": [
    {
     "data": {
      "text/plain": [
       "0"
      ]
     },
     "execution_count": 766,
     "metadata": {},
     "output_type": "execute_result"
    }
   ],
   "source": [
    "test_labels.isnull().sum().sum()"
   ]
  },
  {
   "cell_type": "code",
   "execution_count": 767,
   "metadata": {},
   "outputs": [
    {
     "data": {
      "text/html": [
       "<div>\n",
       "<style scoped>\n",
       "    .dataframe tbody tr th:only-of-type {\n",
       "        vertical-align: middle;\n",
       "    }\n",
       "\n",
       "    .dataframe tbody tr th {\n",
       "        vertical-align: top;\n",
       "    }\n",
       "\n",
       "    .dataframe thead th {\n",
       "        text-align: right;\n",
       "    }\n",
       "</style>\n",
       "<table border=\"1\" class=\"dataframe\">\n",
       "  <thead>\n",
       "    <tr style=\"text-align: right;\">\n",
       "      <th></th>\n",
       "      <th>id</th>\n",
       "      <th>comment_text</th>\n",
       "      <th>toxic</th>\n",
       "      <th>severe_toxic</th>\n",
       "      <th>obscene</th>\n",
       "      <th>threat</th>\n",
       "      <th>insult</th>\n",
       "      <th>identity_hate</th>\n",
       "    </tr>\n",
       "  </thead>\n",
       "  <tbody>\n",
       "    <tr>\n",
       "      <th>0</th>\n",
       "      <td>0000997932d777bf</td>\n",
       "      <td>Explanation\\nWhy the edits made under my username Hardcore Metallica Fan were reverted? They weren't vandalisms, just closure on some GAs after I voted at New York Dolls FAC. And please don't remo...</td>\n",
       "      <td>0</td>\n",
       "      <td>0</td>\n",
       "      <td>0</td>\n",
       "      <td>0</td>\n",
       "      <td>0</td>\n",
       "      <td>0</td>\n",
       "    </tr>\n",
       "    <tr>\n",
       "      <th>1</th>\n",
       "      <td>000103f0d9cfb60f</td>\n",
       "      <td>D'aww! He matches this background colour I'm seemingly stuck with. Thanks.  (talk) 21:51, January 11, 2016 (UTC)</td>\n",
       "      <td>0</td>\n",
       "      <td>0</td>\n",
       "      <td>0</td>\n",
       "      <td>0</td>\n",
       "      <td>0</td>\n",
       "      <td>0</td>\n",
       "    </tr>\n",
       "    <tr>\n",
       "      <th>2</th>\n",
       "      <td>000113f07ec002fd</td>\n",
       "      <td>Hey man, I'm really not trying to edit war. It's just that this guy is constantly removing relevant information and talking to me through edits instead of my talk page. He seems to care more about...</td>\n",
       "      <td>0</td>\n",
       "      <td>0</td>\n",
       "      <td>0</td>\n",
       "      <td>0</td>\n",
       "      <td>0</td>\n",
       "      <td>0</td>\n",
       "    </tr>\n",
       "    <tr>\n",
       "      <th>3</th>\n",
       "      <td>0001b41b1c6bb37e</td>\n",
       "      <td>\"\\nMore\\nI can't make any real suggestions on improvement - I wondered if the section statistics should be later on, or a subsection of \"\"types of accidents\"\"  -I think the references may need tid...</td>\n",
       "      <td>0</td>\n",
       "      <td>0</td>\n",
       "      <td>0</td>\n",
       "      <td>0</td>\n",
       "      <td>0</td>\n",
       "      <td>0</td>\n",
       "    </tr>\n",
       "    <tr>\n",
       "      <th>4</th>\n",
       "      <td>0001d958c54c6e35</td>\n",
       "      <td>You, sir, are my hero. Any chance you remember what page that's on?</td>\n",
       "      <td>0</td>\n",
       "      <td>0</td>\n",
       "      <td>0</td>\n",
       "      <td>0</td>\n",
       "      <td>0</td>\n",
       "      <td>0</td>\n",
       "    </tr>\n",
       "  </tbody>\n",
       "</table>\n",
       "</div>"
      ],
      "text/plain": [
       "                 id  \\\n",
       "0  0000997932d777bf   \n",
       "1  000103f0d9cfb60f   \n",
       "2  000113f07ec002fd   \n",
       "3  0001b41b1c6bb37e   \n",
       "4  0001d958c54c6e35   \n",
       "\n",
       "                                                                                                                                                                                              comment_text  \\\n",
       "0  Explanation\\nWhy the edits made under my username Hardcore Metallica Fan were reverted? They weren't vandalisms, just closure on some GAs after I voted at New York Dolls FAC. And please don't remo...   \n",
       "1                                                                                         D'aww! He matches this background colour I'm seemingly stuck with. Thanks.  (talk) 21:51, January 11, 2016 (UTC)   \n",
       "2  Hey man, I'm really not trying to edit war. It's just that this guy is constantly removing relevant information and talking to me through edits instead of my talk page. He seems to care more about...   \n",
       "3  \"\\nMore\\nI can't make any real suggestions on improvement - I wondered if the section statistics should be later on, or a subsection of \"\"types of accidents\"\"  -I think the references may need tid...   \n",
       "4                                                                                                                                      You, sir, are my hero. Any chance you remember what page that's on?   \n",
       "\n",
       "   toxic  severe_toxic  obscene  threat  insult  identity_hate  \n",
       "0      0             0        0       0       0              0  \n",
       "1      0             0        0       0       0              0  \n",
       "2      0             0        0       0       0              0  \n",
       "3      0             0        0       0       0              0  \n",
       "4      0             0        0       0       0              0  "
      ]
     },
     "execution_count": 767,
     "metadata": {},
     "output_type": "execute_result"
    }
   ],
   "source": [
    "train.head()"
   ]
  },
  {
   "cell_type": "code",
   "execution_count": 768,
   "metadata": {},
   "outputs": [
    {
     "data": {
      "text/plain": [
       "0         Explanation\\nWhy the edits made under my username Hardcore Metallica Fan were reverted? They weren't vandalisms, just closure on some GAs after I voted at New York Dolls FAC. And please don't remo...\n",
       "1                                                                                                D'aww! He matches this background colour I'm seemingly stuck with. Thanks.  (talk) 21:51, January 11, 2016 (UTC)\n",
       "2         Hey man, I'm really not trying to edit war. It's just that this guy is constantly removing relevant information and talking to me through edits instead of my talk page. He seems to care more about...\n",
       "3         \"\\nMore\\nI can't make any real suggestions on improvement - I wondered if the section statistics should be later on, or a subsection of \"\"types of accidents\"\"  -I think the references may need tid...\n",
       "4                                                                                                                                             You, sir, are my hero. Any chance you remember what page that's on?\n",
       "                                                                                                           ...                                                                                                   \n",
       "159566    \":::::And for the second time of asking, when your view completely contradicts the coverage in reliable sources, why should anyone care what you feel? You can't even give a consistent argument - i...\n",
       "159567                                                                                                      You should be ashamed of yourself \\n\\nThat is a horrible thing you put on my talk page.  128.61.19.93\n",
       "159568                                                                                                                        Spitzer \\n\\nUmm, theres no actual article for prostitution ring.  - Crunch Captain.\n",
       "159569                                                                                       And it looks like it was actually you who put on the speedy to have the first version deleted now that I look at it.\n",
       "159570             \"\\nAnd ... I really don't think you understand.  I came here and my idea was bad right away.  What kind of community goes \"\"you have bad ideas\"\" go away, instead of helping rewrite them.   \"\n",
       "Name: comment_text, Length: 159571, dtype: object"
      ]
     },
     "execution_count": 768,
     "metadata": {},
     "output_type": "execute_result"
    }
   ],
   "source": [
    "train.comment_text"
   ]
  },
  {
   "cell_type": "code",
   "execution_count": 769,
   "metadata": {},
   "outputs": [],
   "source": [
    "label_columns = ['toxic', 'severe_toxic', 'obscene', 'threat', 'insult', 'identity_hate']\n",
    "#label_columns = ['toxic']\n",
    "\n",
    "num_labels = len(label_columns)"
   ]
  },
  {
   "cell_type": "code",
   "execution_count": 770,
   "metadata": {},
   "outputs": [
    {
     "name": "stdout",
     "output_type": "stream",
     "text": [
      "(63978, 2)\n",
      "(63978, 7)\n"
     ]
    }
   ],
   "source": [
    "scored_y_test_indices = test_labels['toxic'].apply(lambda x: x != -1)\n",
    "\n",
    "test = test[scored_y_test_indices].reset_index(drop = True)\n",
    "test_labels = test_labels[scored_y_test_indices].reset_index(drop = True)\n",
    "\n",
    "print(test.shape)\n",
    "print(test_labels.shape)"
   ]
  },
  {
   "cell_type": "code",
   "execution_count": 771,
   "metadata": {},
   "outputs": [],
   "source": [
    "train = train.drop('id', axis = 1).reset_index(drop = True)\n",
    "test = test.drop('id', axis = 1).reset_index(drop = True)"
   ]
  },
  {
   "cell_type": "markdown",
   "metadata": {},
   "source": [
    "### Languages"
   ]
  },
  {
   "cell_type": "code",
   "execution_count": 772,
   "metadata": {},
   "outputs": [],
   "source": [
    "# from langdetect import DetectorFactory, detect\n",
    "# from langdetect.lang_detect_exception import LangDetectException\n",
    "# DetectorFactory.seed = 0\n",
    "\n",
    "# def my_detect(text):\n",
    "#     try:\n",
    "#         return detect(text)\n",
    "#     except LangDetectException:\n",
    "#         return False"
   ]
  },
  {
   "cell_type": "code",
   "execution_count": 773,
   "metadata": {},
   "outputs": [],
   "source": [
    "# skip_languages = ['False', \n",
    "#                  'ar', 'he',\n",
    "#                  'bn', 'ur', 'hi', 'ta', 'te', 'pa', 'gu', 'ne', 'mr',\n",
    "#                  'ru', 'uk', 'mk',\n",
    "#                  'zh-tw', 'zh-cn', 'ja', 'kn', 'vi', 'th', 'ml',\n",
    "#                  'id', 'tl',\n",
    "#                  'tr'\n",
    "#                 ]"
   ]
  },
  {
   "cell_type": "code",
   "execution_count": 774,
   "metadata": {},
   "outputs": [],
   "source": [
    "#train_language_list = parallelize_function(train, my_detect, 'comment_text', None, None)"
   ]
  },
  {
   "cell_type": "code",
   "execution_count": 775,
   "metadata": {},
   "outputs": [],
   "source": [
    "#test_language_list = parallelize_function(test, my_detect, 'comment_text', None, None)"
   ]
  },
  {
   "cell_type": "code",
   "execution_count": 776,
   "metadata": {},
   "outputs": [],
   "source": [
    "#train_language_dummies = pd.get_dummies(train_language_list)\n",
    "#test_language_dummies = pd.get_dummies(test_language_list)"
   ]
  },
  {
   "cell_type": "code",
   "execution_count": 777,
   "metadata": {},
   "outputs": [],
   "source": [
    "#train = pd.concat([train, train_language_dummies], axis = 1)\n",
    "#test = pd.concat([test, test_language_dummies], axis = 1)   "
   ]
  },
  {
   "cell_type": "code",
   "execution_count": 778,
   "metadata": {},
   "outputs": [],
   "source": [
    "#text_feature_columns += list(train_language_dummies.columns)"
   ]
  },
  {
   "cell_type": "markdown",
   "metadata": {},
   "source": [
    "### Profanity"
   ]
  },
  {
   "cell_type": "code",
   "execution_count": 779,
   "metadata": {},
   "outputs": [
    {
     "data": {
      "application/vnd.jupyter.widget-view+json": {
       "model_id": "cebed4d022694d70872208665f806a4f",
       "version_major": 2,
       "version_minor": 0
      },
      "text/plain": [
       "  0%|          | 0/159571 [00:00<?, ?it/s]"
      ]
     },
     "metadata": {},
     "output_type": "display_data"
    },
    {
     "name": "stdout",
     "output_type": "stream",
     "text": [
      "my_profanity_check\n"
     ]
    },
    {
     "data": {
      "application/vnd.jupyter.widget-view+json": {
       "model_id": "6bfe9cfb43f84667a74effa829d4b740",
       "version_major": 2,
       "version_minor": 0
      },
      "text/plain": [
       "  0%|          | 0/63978 [00:00<?, ?it/s]"
      ]
     },
     "metadata": {},
     "output_type": "display_data"
    },
    {
     "name": "stdout",
     "output_type": "stream",
     "text": [
      "my_profanity_check\n"
     ]
    }
   ],
   "source": [
    "import profanity_check\n",
    "\n",
    "def my_profanity_check(string):\n",
    "    return(profanity_check.predict_prob([string])[0])\n",
    "    \n",
    "train_profanity_list = parallelize_function(train, my_profanity_check, 'comment_text', None, None)\n",
    "test_profanity_list = parallelize_function(test, my_profanity_check, 'comment_text', None, None)"
   ]
  },
  {
   "cell_type": "code",
   "execution_count": 780,
   "metadata": {},
   "outputs": [],
   "source": [
    "train['profanity'] = train_profanity_list\n",
    "test['profanity'] = test_profanity_list"
   ]
  },
  {
   "cell_type": "markdown",
   "metadata": {},
   "source": [
    "## Text Features"
   ]
  },
  {
   "cell_type": "code",
   "execution_count": 781,
   "metadata": {},
   "outputs": [],
   "source": [
    "text_feature_columns = [\n",
    "    'num_character', 'num_word', 'num_number',\n",
    "    'num_uppercase', 'num_asterisk', 'num_bang', 'num_question',\n",
    "    'reading_ease', 'grade_level',\n",
    "    'negative_sentiment']"
   ]
  },
  {
   "cell_type": "code",
   "execution_count": 782,
   "metadata": {},
   "outputs": [],
   "source": [
    "text_feature_columns += ['profanity']"
   ]
  },
  {
   "cell_type": "code",
   "execution_count": 783,
   "metadata": {},
   "outputs": [],
   "source": [
    "# TO DO: num stop words\n",
    "def add_text_features(comments):\n",
    "\n",
    "    #----- language\n",
    "    \n",
    "#     comments['detect_language'] = parallelize_function(comments, my_detect, 'comment_text', None, None)\n",
    "#     comments['is_skip'] = comments['detect_language'].isin(skip_languages)\n",
    "#     comments['is_english'] = comments['detect_language'].apply(lambda x: x == 'en')\n",
    "    \n",
    "    #-----\n",
    "    \n",
    "    # number of characters\n",
    "    comments['num_character'] = comments['comment_text'].str.len()\n",
    "\n",
    "    # number of words\n",
    "    comments['num_word'] = comments['comment_text'].str.split().str.len()\n",
    "    \n",
    "    # number of upper-case letters \n",
    "    comments['num_uppercase'] = comments['comment_text'].str.findall(r'[A-Z]').str.len()     \n",
    "\n",
    "    # number of asterisks\n",
    "    comments['num_asterisk'] = comments['comment_text'].str.findall(r'[*]').str.len()\n",
    "    \n",
    "    # number of exclamation marks\n",
    "    comments['num_bang'] = comments['comment_text'].str.findall(r'[!]').str.len()\n",
    "    \n",
    "    # number of question marks\n",
    "    comments['num_question'] = comments['comment_text'].str.findall(r'[?]').str.len()  \n",
    "    \n",
    "    # number of numbers\n",
    "    comments['num_number'] = comments['comment_text'].str.findall(r'[0-9]').str.len()  \n",
    "    \n",
    "    #----- text analysis\n",
    "    \n",
    "    # reading ease\n",
    "    comments['reading_ease'] = parallelize_function(comments, textstat.flesch_reading_ease, 'comment_text', None, None)\n",
    "    comments['reading_ease'] = comments['reading_ease'].astype(float)\n",
    "    \n",
    "    # grade level    \n",
    "    comments['grade_level'] = parallelize_function(comments, textstat.flesch_kincaid_grade, 'comment_text', None, None)\n",
    "    comments['grade_level'] = comments['grade_level'].astype(float)\n",
    "    \n",
    "    #----- sentiment analysis\n",
    "    \n",
    "    sia = SentimentIntensityAnalyzer()\n",
    "\n",
    "    my_lambda = lambda x: sia.polarity_scores(x)['neg']\n",
    "    comments['negative_sentiment'] = parallelize_function(comments, my_lambda, 'comment_text', None, None)\n",
    "    comments['negative_sentiment'] = comments['negative_sentiment'].astype(float)\n",
    "    \n",
    "    return(comments)"
   ]
  },
  {
   "cell_type": "code",
   "execution_count": 784,
   "metadata": {},
   "outputs": [
    {
     "data": {
      "application/vnd.jupyter.widget-view+json": {
       "model_id": "fff330f191094f279c2f5bfac0fb7109",
       "version_major": 2,
       "version_minor": 0
      },
      "text/plain": [
       "  0%|          | 0/159571 [00:00<?, ?it/s]"
      ]
     },
     "metadata": {},
     "output_type": "display_data"
    },
    {
     "name": "stdout",
     "output_type": "stream",
     "text": [
      "flesch_reading_ease\n"
     ]
    },
    {
     "data": {
      "application/vnd.jupyter.widget-view+json": {
       "model_id": "cc7d0c866ecd48c0ba230ce620a76c87",
       "version_major": 2,
       "version_minor": 0
      },
      "text/plain": [
       "  0%|          | 0/159571 [00:00<?, ?it/s]"
      ]
     },
     "metadata": {},
     "output_type": "display_data"
    },
    {
     "name": "stdout",
     "output_type": "stream",
     "text": [
      "flesch_kincaid_grade\n"
     ]
    },
    {
     "data": {
      "application/vnd.jupyter.widget-view+json": {
       "model_id": "1bd0937dcd4e4c07b1a120a80be5b713",
       "version_major": 2,
       "version_minor": 0
      },
      "text/plain": [
       "  0%|          | 0/159571 [00:00<?, ?it/s]"
      ]
     },
     "metadata": {},
     "output_type": "display_data"
    },
    {
     "name": "stdout",
     "output_type": "stream",
     "text": [
      "<lambda>\n"
     ]
    },
    {
     "data": {
      "application/vnd.jupyter.widget-view+json": {
       "model_id": "8015e3872abd473b8e3294e8e1df5d63",
       "version_major": 2,
       "version_minor": 0
      },
      "text/plain": [
       "  0%|          | 0/63978 [00:00<?, ?it/s]"
      ]
     },
     "metadata": {},
     "output_type": "display_data"
    },
    {
     "name": "stdout",
     "output_type": "stream",
     "text": [
      "flesch_reading_ease\n"
     ]
    },
    {
     "data": {
      "application/vnd.jupyter.widget-view+json": {
       "model_id": "05c1d7b614a8402b99f2ec02dcd761db",
       "version_major": 2,
       "version_minor": 0
      },
      "text/plain": [
       "  0%|          | 0/63978 [00:00<?, ?it/s]"
      ]
     },
     "metadata": {},
     "output_type": "display_data"
    },
    {
     "name": "stdout",
     "output_type": "stream",
     "text": [
      "flesch_kincaid_grade\n"
     ]
    },
    {
     "data": {
      "application/vnd.jupyter.widget-view+json": {
       "model_id": "ab1a36cd5cae40198567c1426c100433",
       "version_major": 2,
       "version_minor": 0
      },
      "text/plain": [
       "  0%|          | 0/63978 [00:00<?, ?it/s]"
      ]
     },
     "metadata": {},
     "output_type": "display_data"
    },
    {
     "name": "stdout",
     "output_type": "stream",
     "text": [
      "<lambda>\n"
     ]
    }
   ],
   "source": [
    "train = add_text_features(train)\n",
    "test = add_text_features(test)"
   ]
  },
  {
   "cell_type": "markdown",
   "metadata": {},
   "source": [
    "### Character Counts"
   ]
  },
  {
   "cell_type": "code",
   "execution_count": 785,
   "metadata": {},
   "outputs": [],
   "source": [
    "# fig, axes = plt.subplots(3, 2, figsize = (30, 20))\n",
    "# fig.suptitle('Labels')\n",
    "\n",
    "# for i in range(len(label_columns)):\n",
    "#     ax = axes[i // 2, i % 2]\n",
    "#     sns.barplot(x = label_columns[i], y = 'num_character', data = train, estimator = np.mean, ax = ax)\n",
    "#     ax.set_xlabel(label_columns[i], fontsize = 20)\n",
    "\n",
    "# plt.show()"
   ]
  },
  {
   "cell_type": "markdown",
   "metadata": {},
   "source": [
    "### Reading Ease"
   ]
  },
  {
   "cell_type": "code",
   "execution_count": 786,
   "metadata": {},
   "outputs": [],
   "source": [
    "# fig, axes = plt.subplots(3, 2, figsize = (30, 20))\n",
    "# fig.suptitle('Labels')\n",
    "\n",
    "# for i in range(len(label_columns)):\n",
    "#     ax = axes[i // 2, i % 2]\n",
    "#     sns.barplot(x = label_columns[i], y = 'reading_ease', data = train, estimator = np.mean, ax = ax)\n",
    "#     ax.set_xlabel(label_columns[i], fontsize = 20)\n",
    "\n",
    "# plt.show()"
   ]
  },
  {
   "cell_type": "markdown",
   "metadata": {},
   "source": [
    "### Upper-case Characters"
   ]
  },
  {
   "cell_type": "code",
   "execution_count": 787,
   "metadata": {},
   "outputs": [],
   "source": [
    "# fig, axes = plt.subplots(3, 2, figsize = (30, 20))\n",
    "# fig.suptitle('Labels')\n",
    "\n",
    "# for i in range(len(label_columns)):\n",
    "#     ax = axes[i // 2, i % 2]\n",
    "#     sns.barplot(x = label_columns[i], y = 'upper_characters', data = train, estimator = np.mean, ax = ax)\n",
    "#     ax.set_xlabel(label_columns[i], fontsize = 20)\n",
    "\n",
    "# plt.show()"
   ]
  },
  {
   "cell_type": "markdown",
   "metadata": {},
   "source": [
    "### Sentiment Polarity"
   ]
  },
  {
   "cell_type": "code",
   "execution_count": 788,
   "metadata": {},
   "outputs": [],
   "source": [
    "# fig, axes = plt.subplots(3, 2, figsize = (30, 20))\n",
    "# fig.suptitle('Labels')\n",
    "\n",
    "# for i in range(len(label_columns)):\n",
    "#     ax = axes[i // 2, i % 2]\n",
    "#     sns.barplot(x = label_columns[i], y = 'sentiment_polarity', data = train, estimator = np.mean, ax = ax)\n",
    "#     ax.set_xlabel(label_columns[i], fontsize = 20)\n",
    "\n",
    "# plt.show()"
   ]
  },
  {
   "cell_type": "code",
   "execution_count": 789,
   "metadata": {},
   "outputs": [],
   "source": [
    "# convert label values to numeric\n",
    "\n",
    "train[label_columns] = train[label_columns].applymap(lambda x: pd.to_numeric(x))\n",
    "test_labels[label_columns] = test_labels[label_columns].applymap(lambda x: pd.to_numeric(x))"
   ]
  },
  {
   "cell_type": "code",
   "execution_count": 790,
   "metadata": {},
   "outputs": [],
   "source": [
    "train[text_feature_columns] = train[text_feature_columns].applymap(lambda x: pd.to_numeric(x))\n",
    "test[text_feature_columns] = test[text_feature_columns].applymap(lambda x: pd.to_numeric(x))"
   ]
  },
  {
   "cell_type": "code",
   "execution_count": 791,
   "metadata": {},
   "outputs": [],
   "source": [
    "X_train = train\n",
    "X_test = test\n",
    "\n",
    "#y_train = train[label_columns].values.reshape(-1, )\n",
    "#y_test = test_labels[label_columns].values.reshape(-1, )\n",
    "\n",
    "y_train = train[label_columns].values\n",
    "y_test = test_labels[label_columns].values"
   ]
  },
  {
   "cell_type": "code",
   "execution_count": 792,
   "metadata": {},
   "outputs": [],
   "source": [
    "X_train_char = train[text_feature_columns]\n",
    "X_test_char = test[text_feature_columns]"
   ]
  },
  {
   "cell_type": "code",
   "execution_count": 793,
   "metadata": {},
   "outputs": [],
   "source": [
    "from sklearn.preprocessing import StandardScaler\n",
    "\n",
    "my_scaler = StandardScaler()\n",
    "my_scaler.fit(X_train_char)\n",
    "\n",
    "X_train_char = my_scaler.transform(X_train_char)\n",
    "X_test_char = my_scaler.transform(X_test_char)"
   ]
  },
  {
   "cell_type": "code",
   "execution_count": 794,
   "metadata": {},
   "outputs": [],
   "source": [
    "y_train = train[label_columns[0]].values.reshape(-1, 1)\n",
    "y_test = test_labels[label_columns[0]].values.reshape(-1, 1)"
   ]
  },
  {
   "cell_type": "markdown",
   "metadata": {},
   "source": [
    "## Baseline Model"
   ]
  },
  {
   "cell_type": "code",
   "execution_count": 795,
   "metadata": {},
   "outputs": [],
   "source": [
    "baseline_predictions = np.zeros(y_test.shape)"
   ]
  },
  {
   "cell_type": "code",
   "execution_count": 796,
   "metadata": {},
   "outputs": [],
   "source": [
    "all_scores_baseline = pd.DataFrame()\n",
    "\n",
    "for i in range(y_test.shape[1]):\n",
    "    this_predict_proba = baseline_predictions[:, i] \n",
    "    \n",
    "    this_roc_auc_score = pd.DataFrame({\n",
    "        'column' : [label_columns[i]], \n",
    "        'accuracy' : [round(accuracy_score(y_test[:, i], this_predict_proba), 4)],\n",
    "        'F1' : [round(f1_score(y_test[:, i], this_predict_proba), 4)],\n",
    "        'ROC AUC' : [round(roc_auc_score(y_test[:, i], this_predict_proba), 4)]\n",
    "    })\n",
    "    all_scores_baseline = pd.concat([all_scores_baseline, this_roc_auc_score], axis = 0)"
   ]
  },
  {
   "cell_type": "code",
   "execution_count": 797,
   "metadata": {},
   "outputs": [
    {
     "data": {
      "text/html": [
       "<div>\n",
       "<style scoped>\n",
       "    .dataframe tbody tr th:only-of-type {\n",
       "        vertical-align: middle;\n",
       "    }\n",
       "\n",
       "    .dataframe tbody tr th {\n",
       "        vertical-align: top;\n",
       "    }\n",
       "\n",
       "    .dataframe thead th {\n",
       "        text-align: right;\n",
       "    }\n",
       "</style>\n",
       "<table border=\"1\" class=\"dataframe\">\n",
       "  <thead>\n",
       "    <tr style=\"text-align: right;\">\n",
       "      <th></th>\n",
       "      <th>column</th>\n",
       "      <th>accuracy</th>\n",
       "      <th>F1</th>\n",
       "      <th>ROC AUC</th>\n",
       "    </tr>\n",
       "  </thead>\n",
       "  <tbody>\n",
       "    <tr>\n",
       "      <th>0</th>\n",
       "      <td>toxic</td>\n",
       "      <td>0.9048</td>\n",
       "      <td>0.0</td>\n",
       "      <td>0.5</td>\n",
       "    </tr>\n",
       "  </tbody>\n",
       "</table>\n",
       "</div>"
      ],
      "text/plain": [
       "  column  accuracy   F1  ROC AUC\n",
       "0  toxic    0.9048  0.0      0.5"
      ]
     },
     "execution_count": 797,
     "metadata": {},
     "output_type": "execute_result"
    }
   ],
   "source": [
    "all_scores_baseline.reset_index(drop = True)"
   ]
  },
  {
   "cell_type": "code",
   "execution_count": 798,
   "metadata": {
    "scrolled": false
   },
   "outputs": [
    {
     "name": "stdout",
     "output_type": "stream",
     "text": [
      "Mean accuracy: 0.9048\n",
      "Mean F1: 0.0\n",
      "Mean ROC AUC: 0.5\n"
     ]
    }
   ],
   "source": [
    "print('Mean accuracy: ' + str(round(all_scores_baseline['accuracy'].mean(), 4)))\n",
    "print('Mean F1: ' + str(round(all_scores_baseline['F1'].mean(), 4)))\n",
    "print('Mean ROC AUC: ' + str(round(all_scores_baseline['ROC AUC'].mean(), 4)))"
   ]
  },
  {
   "cell_type": "markdown",
   "metadata": {},
   "source": [
    "## Gradient Boosting"
   ]
  },
  {
   "cell_type": "markdown",
   "metadata": {},
   "source": [
    "### Cross-validate"
   ]
  },
  {
   "cell_type": "code",
   "execution_count": 799,
   "metadata": {},
   "outputs": [],
   "source": [
    "best_n_estimators = 100\n",
    "best_max_depth = 2\n",
    "best_learning_rate = 0.3"
   ]
  },
  {
   "cell_type": "code",
   "execution_count": 800,
   "metadata": {},
   "outputs": [],
   "source": [
    "cv_xgbc = XGBC(n_jobs = num_cores, \n",
    "               eval_metric = 'logloss',\n",
    "               use_label_encoder = False,\n",
    "               n_estimators = best_n_estimators, \n",
    "               max_depth = best_max_depth,\n",
    "               learning_rate = best_learning_rate)"
   ]
  },
  {
   "cell_type": "code",
   "execution_count": 801,
   "metadata": {},
   "outputs": [
    {
     "name": "stderr",
     "output_type": "stream",
     "text": [
      "[Parallel(n_jobs=15)]: Using backend LokyBackend with 15 concurrent workers.\n",
      "[Parallel(n_jobs=15)]: Done   3 out of   3 | elapsed:    1.5s finished\n"
     ]
    }
   ],
   "source": [
    "cv_result = cross_val_score(estimator = cv_xgbc, \n",
    "                            X = X_train_char, \n",
    "                            y = y_train,\n",
    "                           cv = 3,\n",
    "                           n_jobs = num_cores,\n",
    "                           scoring = 'roc_auc',\n",
    "                           verbose = 1)"
   ]
  },
  {
   "cell_type": "code",
   "execution_count": 802,
   "metadata": {},
   "outputs": [
    {
     "data": {
      "text/plain": [
       "0.991"
      ]
     },
     "execution_count": 802,
     "metadata": {},
     "output_type": "execute_result"
    }
   ],
   "source": [
    "round(cv_result.mean(), 4)"
   ]
  },
  {
   "cell_type": "code",
   "execution_count": 803,
   "metadata": {},
   "outputs": [
    {
     "data": {
      "text/plain": [
       "XGBClassifier(base_score=0.5, booster='gbtree', colsample_bylevel=1,\n",
       "              colsample_bynode=1, colsample_bytree=1, eval_metric='logloss',\n",
       "              gamma=0, gpu_id=-1, importance_type='gain',\n",
       "              interaction_constraints='', learning_rate=0.3, max_delta_step=0,\n",
       "              max_depth=2, min_child_weight=1, missing=nan,\n",
       "              monotone_constraints='()', n_estimators=100, n_jobs=15,\n",
       "              num_parallel_tree=1, random_state=0, reg_alpha=0, reg_lambda=1,\n",
       "              scale_pos_weight=1, subsample=1, tree_method='exact',\n",
       "              use_label_encoder=False, validate_parameters=1, verbosity=None)"
      ]
     },
     "execution_count": 803,
     "metadata": {},
     "output_type": "execute_result"
    }
   ],
   "source": [
    "cv_xgbc.fit(X_train_char, y_train)"
   ]
  },
  {
   "cell_type": "markdown",
   "metadata": {},
   "source": [
    "### Grid Search Cross-validation"
   ]
  },
  {
   "cell_type": "code",
   "execution_count": 422,
   "metadata": {},
   "outputs": [],
   "source": [
    "my_params_xgbc = {\n",
    "    'n_estimators' : [25, 50, 100],\n",
    "    'max_depth' : [2, 4, 6],\n",
    "    'learning_rate' : [0.1, 0.2, 0.3]\n",
    "}"
   ]
  },
  {
   "cell_type": "code",
   "execution_count": 423,
   "metadata": {},
   "outputs": [
    {
     "name": "stdout",
     "output_type": "stream",
     "text": [
      "Fitting 3 folds for each of 27 candidates, totalling 81 fits\n"
     ]
    },
    {
     "data": {
      "text/plain": [
       "GridSearchCV(cv=3,\n",
       "             estimator=XGBClassifier(base_score=None, booster=None,\n",
       "                                     colsample_bylevel=None,\n",
       "                                     colsample_bynode=None,\n",
       "                                     colsample_bytree=None,\n",
       "                                     eval_metric='logloss', gamma=None,\n",
       "                                     gpu_id=None, importance_type='gain',\n",
       "                                     interaction_constraints=None,\n",
       "                                     learning_rate=None, max_delta_step=None,\n",
       "                                     max_depth=None, min_child_weight=None,\n",
       "                                     missing=nan, monotone_constraints=None,\n",
       "                                     n_estimators=100, n_jobs=15,\n",
       "                                     num_parallel_tree=None, random_state=None,\n",
       "                                     reg_alpha=None, reg_lambda=None,\n",
       "                                     scale_pos_weight=None, subsample=None,\n",
       "                                     tree_method=None, use_label_encoder=False,\n",
       "                                     validate_parameters=None, verbosity=None),\n",
       "             n_jobs=15,\n",
       "             param_grid={'learning_rate': [0.1, 0.2, 0.3],\n",
       "                         'max_depth': [2, 4, 6],\n",
       "                         'n_estimators': [25, 50, 100]},\n",
       "             scoring='roc_auc', verbose=1)"
      ]
     },
     "execution_count": 423,
     "metadata": {},
     "output_type": "execute_result"
    }
   ],
   "source": [
    "search_xgbc = XGBC(n_jobs = num_cores, eval_metric = 'logloss', use_label_encoder = False)\n",
    "searcher_xgbc = GridSearchCV(estimator = search_xgbc, param_grid = my_params_xgbc, n_jobs = num_cores, cv = 3,\n",
    "                            scoring = 'roc_auc', verbose = 1)\n",
    "searcher_xgbc.fit(X = X_train_char, y = y_train)"
   ]
  },
  {
   "cell_type": "code",
   "execution_count": 424,
   "metadata": {},
   "outputs": [
    {
     "data": {
      "text/plain": [
       "0.9910436345290171"
      ]
     },
     "execution_count": 424,
     "metadata": {},
     "output_type": "execute_result"
    }
   ],
   "source": [
    "searcher_xgbc.best_score_"
   ]
  },
  {
   "cell_type": "code",
   "execution_count": 425,
   "metadata": {},
   "outputs": [
    {
     "data": {
      "text/plain": [
       "{'learning_rate': 0.3, 'max_depth': 2, 'n_estimators': 100}"
      ]
     },
     "execution_count": 425,
     "metadata": {},
     "output_type": "execute_result"
    }
   ],
   "source": [
    "searcher_xgbc.best_params_"
   ]
  },
  {
   "cell_type": "code",
   "execution_count": 433,
   "metadata": {},
   "outputs": [],
   "source": [
    "my_params_xgbc_2 = {\n",
    "    'n_estimators' : [100, 125, 150],\n",
    "    'max_depth' : [2, 3, 4],\n",
    "    'learning_rate' : [0.3, 0.35, 0.40]\n",
    "}"
   ]
  },
  {
   "cell_type": "code",
   "execution_count": 434,
   "metadata": {},
   "outputs": [
    {
     "name": "stdout",
     "output_type": "stream",
     "text": [
      "Fitting 3 folds for each of 27 candidates, totalling 81 fits\n"
     ]
    },
    {
     "data": {
      "text/plain": [
       "GridSearchCV(cv=3,\n",
       "             estimator=XGBClassifier(base_score=None, booster=None,\n",
       "                                     colsample_bylevel=None,\n",
       "                                     colsample_bynode=None,\n",
       "                                     colsample_bytree=None,\n",
       "                                     eval_metric='logloss', gamma=None,\n",
       "                                     gpu_id=None, importance_type='gain',\n",
       "                                     interaction_constraints=None,\n",
       "                                     learning_rate=None, max_delta_step=None,\n",
       "                                     max_depth=None, min_child_weight=None,\n",
       "                                     missing=nan, monotone_constraints=None,\n",
       "                                     n_estimators=100, n_jobs=15,\n",
       "                                     num_parallel_tree=None, random_state=None,\n",
       "                                     reg_alpha=None, reg_lambda=None,\n",
       "                                     scale_pos_weight=None, subsample=None,\n",
       "                                     tree_method=None, use_label_encoder=False,\n",
       "                                     validate_parameters=None, verbosity=None),\n",
       "             n_jobs=15,\n",
       "             param_grid={'learning_rate': [0.3, 0.35, 0.4],\n",
       "                         'max_depth': [2, 3, 4],\n",
       "                         'n_estimators': [100, 125, 150]},\n",
       "             scoring='roc_auc', verbose=1)"
      ]
     },
     "execution_count": 434,
     "metadata": {},
     "output_type": "execute_result"
    }
   ],
   "source": [
    "search_xgbc_2 = XGBC(n_jobs = num_cores, eval_metric = 'logloss', use_label_encoder = False)\n",
    "searcher_xgbc_2 = GridSearchCV(estimator = search_xgbc_2, param_grid = my_params_xgbc_2, n_jobs = num_cores, cv = 3,\n",
    "                              scoring = 'roc_auc', verbose = 1)\n",
    "searcher_xgbc_2.fit(X = X_train_char, y = y_train)"
   ]
  },
  {
   "cell_type": "code",
   "execution_count": 435,
   "metadata": {},
   "outputs": [
    {
     "data": {
      "text/plain": [
       "0.9910436345290171"
      ]
     },
     "execution_count": 435,
     "metadata": {},
     "output_type": "execute_result"
    }
   ],
   "source": [
    "searcher_xgbc_2.best_score_"
   ]
  },
  {
   "cell_type": "code",
   "execution_count": 436,
   "metadata": {},
   "outputs": [
    {
     "data": {
      "text/plain": [
       "{'learning_rate': 0.3, 'max_depth': 2, 'n_estimators': 100}"
      ]
     },
     "execution_count": 436,
     "metadata": {},
     "output_type": "execute_result"
    }
   ],
   "source": [
    "searcher_xgbc_2.best_params_"
   ]
  },
  {
   "cell_type": "markdown",
   "metadata": {},
   "source": [
    "### Test"
   ]
  },
  {
   "cell_type": "code",
   "execution_count": 804,
   "metadata": {},
   "outputs": [],
   "source": [
    "xgbc_predict = cv_xgbc.predict(X_test_char).reshape(-1, 1)\n",
    "xgbc_predict_proba = cv_xgbc.predict_proba(X_test_char)"
   ]
  },
  {
   "cell_type": "code",
   "execution_count": 807,
   "metadata": {},
   "outputs": [
    {
     "data": {
      "text/html": [
       "<div>\n",
       "<style scoped>\n",
       "    .dataframe tbody tr th:only-of-type {\n",
       "        vertical-align: middle;\n",
       "    }\n",
       "\n",
       "    .dataframe tbody tr th {\n",
       "        vertical-align: top;\n",
       "    }\n",
       "\n",
       "    .dataframe thead th {\n",
       "        text-align: right;\n",
       "    }\n",
       "</style>\n",
       "<table border=\"1\" class=\"dataframe\">\n",
       "  <thead>\n",
       "    <tr style=\"text-align: right;\">\n",
       "      <th></th>\n",
       "      <th>column</th>\n",
       "      <th>accuracy</th>\n",
       "      <th>ROC AUC</th>\n",
       "    </tr>\n",
       "  </thead>\n",
       "  <tbody>\n",
       "    <tr>\n",
       "      <th>0</th>\n",
       "      <td>toxic</td>\n",
       "      <td>0.91</td>\n",
       "      <td>0.9586</td>\n",
       "    </tr>\n",
       "  </tbody>\n",
       "</table>\n",
       "</div>"
      ],
      "text/plain": [
       "  column  accuracy  ROC AUC\n",
       "0  toxic      0.91   0.9586"
      ]
     },
     "execution_count": 807,
     "metadata": {},
     "output_type": "execute_result"
    }
   ],
   "source": [
    "this_score = pd.DataFrame({\n",
    "    'column' : [label_columns[0]],\n",
    "    'accuracy' : [round(accuracy_score(y_test, xgbc_predict), 4)],\n",
    "    'ROC AUC' : [round(roc_auc_score(y_test, xgbc_predict_proba[:, 1]), 4)]\n",
    "})\n",
    "this_score"
   ]
  },
  {
   "cell_type": "markdown",
   "metadata": {},
   "source": [
    "## Logistic Regression"
   ]
  },
  {
   "cell_type": "markdown",
   "metadata": {},
   "source": [
    "### Cross-validate"
   ]
  },
  {
   "cell_type": "code",
   "execution_count": 808,
   "metadata": {},
   "outputs": [],
   "source": [
    "best_C = 1"
   ]
  },
  {
   "cell_type": "code",
   "execution_count": 809,
   "metadata": {},
   "outputs": [],
   "source": [
    "cv_log_reg = LogReg(C = best_C,\n",
    "                     n_jobs = num_cores,\n",
    "                   class_weight = 'balanced')"
   ]
  },
  {
   "cell_type": "code",
   "execution_count": 810,
   "metadata": {},
   "outputs": [
    {
     "name": "stderr",
     "output_type": "stream",
     "text": [
      "[Parallel(n_jobs=15)]: Using backend LokyBackend with 15 concurrent workers.\n",
      "[Parallel(n_jobs=15)]: Done   3 out of   3 | elapsed:    0.3s finished\n"
     ]
    }
   ],
   "source": [
    "cv_result = cross_val_score(estimator = cv_log_reg, \n",
    "                            X = X_train_char, \n",
    "                            y = y_train,\n",
    "                            cv = 3,\n",
    "                            n_jobs = num_cores,\n",
    "                           scoring = 'roc_auc',\n",
    "                           verbose = 1)"
   ]
  },
  {
   "cell_type": "code",
   "execution_count": 811,
   "metadata": {},
   "outputs": [
    {
     "data": {
      "text/plain": [
       "0.9898"
      ]
     },
     "execution_count": 811,
     "metadata": {},
     "output_type": "execute_result"
    }
   ],
   "source": [
    "round(cv_result.mean(), 4)"
   ]
  },
  {
   "cell_type": "code",
   "execution_count": 812,
   "metadata": {},
   "outputs": [
    {
     "name": "stderr",
     "output_type": "stream",
     "text": [
      "C:\\Users\\dmodj\\anaconda3\\lib\\site-packages\\sklearn\\utils\\validation.py:63: DataConversionWarning: A column-vector y was passed when a 1d array was expected. Please change the shape of y to (n_samples, ), for example using ravel().\n",
      "  return f(*args, **kwargs)\n"
     ]
    },
    {
     "data": {
      "text/plain": [
       "LogisticRegression(C=1, class_weight='balanced', n_jobs=15)"
      ]
     },
     "execution_count": 812,
     "metadata": {},
     "output_type": "execute_result"
    }
   ],
   "source": [
    "cv_log_reg.fit(X_train_char, y_train)"
   ]
  },
  {
   "cell_type": "markdown",
   "metadata": {},
   "source": [
    "### Grid Search Cross-validation"
   ]
  },
  {
   "cell_type": "code",
   "execution_count": 170,
   "metadata": {},
   "outputs": [],
   "source": [
    "my_params_log_reg = {\n",
    "    'C' : np.arange(1, 11)\n",
    "}"
   ]
  },
  {
   "cell_type": "code",
   "execution_count": 171,
   "metadata": {},
   "outputs": [
    {
     "name": "stdout",
     "output_type": "stream",
     "text": [
      "Fitting 3 folds for each of 10 candidates, totalling 30 fits\n"
     ]
    },
    {
     "data": {
      "text/plain": [
       "GridSearchCV(cv=3,\n",
       "             estimator=LogisticRegression(class_weight='balanced', n_jobs=15),\n",
       "             n_jobs=15,\n",
       "             param_grid={'C': array([ 1,  2,  3,  4,  5,  6,  7,  8,  9, 10])},\n",
       "             scoring='roc_auc', verbose=1)"
      ]
     },
     "execution_count": 171,
     "metadata": {},
     "output_type": "execute_result"
    }
   ],
   "source": [
    "search_log_reg = LogReg(n_jobs = num_cores, class_weight = 'balanced')\n",
    "searcher_log_reg = GridSearchCV(estimator = search_log_reg, param_grid = my_params_log_reg, n_jobs = num_cores, cv = 3,\n",
    "                               scoring = 'roc_auc', verbose = 1)\n",
    "searcher_log_reg.fit(X = X_train_char, y = y_train)"
   ]
  },
  {
   "cell_type": "code",
   "execution_count": 172,
   "metadata": {},
   "outputs": [
    {
     "data": {
      "text/plain": [
       "0.9897899542095109"
      ]
     },
     "execution_count": 172,
     "metadata": {},
     "output_type": "execute_result"
    }
   ],
   "source": [
    "searcher_log_reg.best_score_"
   ]
  },
  {
   "cell_type": "code",
   "execution_count": 173,
   "metadata": {},
   "outputs": [
    {
     "data": {
      "text/plain": [
       "{'C': 1}"
      ]
     },
     "execution_count": 173,
     "metadata": {},
     "output_type": "execute_result"
    }
   ],
   "source": [
    "searcher_log_reg.best_params_"
   ]
  },
  {
   "cell_type": "markdown",
   "metadata": {},
   "source": [
    "### Test"
   ]
  },
  {
   "cell_type": "code",
   "execution_count": 813,
   "metadata": {},
   "outputs": [],
   "source": [
    "log_reg_predict = cv_log_reg.predict(X_test_char).reshape(-1, 1)\n",
    "log_reg_predict_proba = cv_log_reg.predict_proba(X_test_char)"
   ]
  },
  {
   "cell_type": "code",
   "execution_count": 814,
   "metadata": {
    "scrolled": true
   },
   "outputs": [
    {
     "data": {
      "text/html": [
       "<div>\n",
       "<style scoped>\n",
       "    .dataframe tbody tr th:only-of-type {\n",
       "        vertical-align: middle;\n",
       "    }\n",
       "\n",
       "    .dataframe tbody tr th {\n",
       "        vertical-align: top;\n",
       "    }\n",
       "\n",
       "    .dataframe thead th {\n",
       "        text-align: right;\n",
       "    }\n",
       "</style>\n",
       "<table border=\"1\" class=\"dataframe\">\n",
       "  <thead>\n",
       "    <tr style=\"text-align: right;\">\n",
       "      <th></th>\n",
       "      <th>column</th>\n",
       "      <th>accuracy</th>\n",
       "      <th>ROC AUC</th>\n",
       "    </tr>\n",
       "  </thead>\n",
       "  <tbody>\n",
       "    <tr>\n",
       "      <th>0</th>\n",
       "      <td>toxic</td>\n",
       "      <td>0.8834</td>\n",
       "      <td>0.956</td>\n",
       "    </tr>\n",
       "  </tbody>\n",
       "</table>\n",
       "</div>"
      ],
      "text/plain": [
       "  column  accuracy  ROC AUC\n",
       "0  toxic    0.8834    0.956"
      ]
     },
     "execution_count": 814,
     "metadata": {},
     "output_type": "execute_result"
    }
   ],
   "source": [
    "this_score = pd.DataFrame({\n",
    "    'column' : [label_columns[0]], \n",
    "    'accuracy' : [round(accuracy_score(y_test, log_reg_predict), 4)],    \n",
    "    'ROC AUC' : [round(roc_auc_score(y_test, log_reg_predict_proba[:, 1]), 4)]\n",
    "})\n",
    "this_score"
   ]
  },
  {
   "cell_type": "markdown",
   "metadata": {},
   "source": [
    "## Random Forest"
   ]
  },
  {
   "cell_type": "markdown",
   "metadata": {},
   "source": [
    "### Cross-validate"
   ]
  },
  {
   "cell_type": "code",
   "execution_count": 815,
   "metadata": {},
   "outputs": [],
   "source": [
    "best_n_estimators = 125\n",
    "best_max_depth = 10"
   ]
  },
  {
   "cell_type": "code",
   "execution_count": 816,
   "metadata": {},
   "outputs": [],
   "source": [
    "cv_rfc = RFC(n_estimators = best_n_estimators,\n",
    "             max_depth = best_max_depth,\n",
    "             n_jobs = num_cores)"
   ]
  },
  {
   "cell_type": "code",
   "execution_count": 817,
   "metadata": {},
   "outputs": [
    {
     "name": "stderr",
     "output_type": "stream",
     "text": [
      "[Parallel(n_jobs=15)]: Using backend LokyBackend with 15 concurrent workers.\n",
      "[Parallel(n_jobs=15)]: Done   3 out of   3 | elapsed:   10.9s finished\n"
     ]
    }
   ],
   "source": [
    "cv_result = cross_val_score(estimator = cv_rfc,\n",
    "                            X = X_train_char, \n",
    "                            y = y_train,\n",
    "                            cv = 3,\n",
    "                            n_jobs = num_cores,\n",
    "                           scoring = 'roc_auc',\n",
    "                           verbose = 1)"
   ]
  },
  {
   "cell_type": "code",
   "execution_count": 818,
   "metadata": {},
   "outputs": [
    {
     "data": {
      "text/plain": [
       "0.9897"
      ]
     },
     "execution_count": 818,
     "metadata": {},
     "output_type": "execute_result"
    }
   ],
   "source": [
    "round(cv_result.mean(), 4)"
   ]
  },
  {
   "cell_type": "code",
   "execution_count": 819,
   "metadata": {},
   "outputs": [
    {
     "name": "stderr",
     "output_type": "stream",
     "text": [
      "<ipython-input-819-4f759b4ae8fc>:1: DataConversionWarning: A column-vector y was passed when a 1d array was expected. Please change the shape of y to (n_samples,), for example using ravel().\n",
      "  cv_rfc.fit(X_train_char, y_train)\n"
     ]
    },
    {
     "data": {
      "text/plain": [
       "RandomForestClassifier(max_depth=10, n_estimators=125, n_jobs=15)"
      ]
     },
     "execution_count": 819,
     "metadata": {},
     "output_type": "execute_result"
    }
   ],
   "source": [
    "cv_rfc.fit(X_train_char, y_train)"
   ]
  },
  {
   "cell_type": "markdown",
   "metadata": {},
   "source": [
    "### Grid Search Cross-validation"
   ]
  },
  {
   "cell_type": "code",
   "execution_count": 449,
   "metadata": {},
   "outputs": [],
   "source": [
    "my_params_rfc = {\n",
    "    'n_estimators' : [50, 100, 150],\n",
    "    'max_depth' : [10, 100, None]\n",
    "}"
   ]
  },
  {
   "cell_type": "code",
   "execution_count": 451,
   "metadata": {},
   "outputs": [
    {
     "name": "stdout",
     "output_type": "stream",
     "text": [
      "Fitting 3 folds for each of 9 candidates, totalling 27 fits\n"
     ]
    },
    {
     "data": {
      "text/plain": [
       "GridSearchCV(cv=3, estimator=RandomForestClassifier(n_jobs=15), n_jobs=15,\n",
       "             param_grid={'max_depth': [10, 100, None],\n",
       "                         'n_estimators': [50, 100, 150]},\n",
       "             scoring='roc_auc', verbose=1)"
      ]
     },
     "execution_count": 451,
     "metadata": {},
     "output_type": "execute_result"
    }
   ],
   "source": [
    "search_rfc = RFC(n_jobs = num_cores)\n",
    "searcher_rfc = GridSearchCV(estimator = search_rfc, param_grid = my_params_rfc, n_jobs = num_cores, cv = 3,\n",
    "                           scoring = 'roc_auc', verbose = 1)\n",
    "searcher_rfc.fit(X = X_train_char, y = y_train)"
   ]
  },
  {
   "cell_type": "code",
   "execution_count": 452,
   "metadata": {},
   "outputs": [
    {
     "data": {
      "text/plain": [
       "0.9897584939680132"
      ]
     },
     "execution_count": 452,
     "metadata": {},
     "output_type": "execute_result"
    }
   ],
   "source": [
    "searcher_rfc.best_score_"
   ]
  },
  {
   "cell_type": "code",
   "execution_count": 453,
   "metadata": {},
   "outputs": [
    {
     "data": {
      "text/plain": [
       "{'max_depth': 10, 'n_estimators': 100}"
      ]
     },
     "execution_count": 453,
     "metadata": {},
     "output_type": "execute_result"
    }
   ],
   "source": [
    "searcher_rfc.best_params_"
   ]
  },
  {
   "cell_type": "code",
   "execution_count": 465,
   "metadata": {},
   "outputs": [],
   "source": [
    "my_params_rfc_2 = {\n",
    "    'n_estimators' : [75, 100, 125],\n",
    "    'max_depth' : [10, 30, 50]\n",
    "}"
   ]
  },
  {
   "cell_type": "code",
   "execution_count": 466,
   "metadata": {},
   "outputs": [
    {
     "name": "stdout",
     "output_type": "stream",
     "text": [
      "Fitting 3 folds for each of 9 candidates, totalling 27 fits\n"
     ]
    },
    {
     "data": {
      "text/plain": [
       "GridSearchCV(cv=3, estimator=RandomForestClassifier(n_jobs=15), n_jobs=15,\n",
       "             param_grid={'max_depth': [10, 30, 50],\n",
       "                         'n_estimators': [75, 100, 125]},\n",
       "             scoring='roc_auc', verbose=1)"
      ]
     },
     "execution_count": 466,
     "metadata": {},
     "output_type": "execute_result"
    }
   ],
   "source": [
    "search_rfc_2 = RFC(n_jobs = num_cores)\n",
    "searcher_rfc_2 = GridSearchCV(estimator = search_rfc_2, param_grid = my_params_rfc_2, n_jobs = num_cores, cv = 3,\n",
    "                             scoring = 'roc_auc', verbose = 1)\n",
    "searcher_rfc_2.fit(X = X_train_char, y = y_train)"
   ]
  },
  {
   "cell_type": "code",
   "execution_count": 467,
   "metadata": {},
   "outputs": [
    {
     "data": {
      "text/plain": [
       "0.9896246735241037"
      ]
     },
     "execution_count": 467,
     "metadata": {},
     "output_type": "execute_result"
    }
   ],
   "source": [
    "searcher_rfc_2.best_score_"
   ]
  },
  {
   "cell_type": "code",
   "execution_count": 468,
   "metadata": {},
   "outputs": [
    {
     "data": {
      "text/plain": [
       "{'max_depth': 10, 'n_estimators': 125}"
      ]
     },
     "execution_count": 468,
     "metadata": {},
     "output_type": "execute_result"
    }
   ],
   "source": [
    "searcher_rfc_2.best_params_"
   ]
  },
  {
   "cell_type": "markdown",
   "metadata": {},
   "source": [
    "### Test"
   ]
  },
  {
   "cell_type": "code",
   "execution_count": 820,
   "metadata": {},
   "outputs": [],
   "source": [
    "rfc_predict = cv_rfc.predict(X_test_char).reshape(-1, 1)\n",
    "rfc_predict_proba = cv_rfc.predict_proba(X_test_char)"
   ]
  },
  {
   "cell_type": "code",
   "execution_count": 821,
   "metadata": {
    "scrolled": true
   },
   "outputs": [
    {
     "data": {
      "text/html": [
       "<div>\n",
       "<style scoped>\n",
       "    .dataframe tbody tr th:only-of-type {\n",
       "        vertical-align: middle;\n",
       "    }\n",
       "\n",
       "    .dataframe tbody tr th {\n",
       "        vertical-align: top;\n",
       "    }\n",
       "\n",
       "    .dataframe thead th {\n",
       "        text-align: right;\n",
       "    }\n",
       "</style>\n",
       "<table border=\"1\" class=\"dataframe\">\n",
       "  <thead>\n",
       "    <tr style=\"text-align: right;\">\n",
       "      <th></th>\n",
       "      <th>column</th>\n",
       "      <th>accuracy</th>\n",
       "      <th>ROC AUC</th>\n",
       "    </tr>\n",
       "  </thead>\n",
       "  <tbody>\n",
       "    <tr>\n",
       "      <th>0</th>\n",
       "      <td>toxic</td>\n",
       "      <td>0.9084</td>\n",
       "      <td>0.9566</td>\n",
       "    </tr>\n",
       "  </tbody>\n",
       "</table>\n",
       "</div>"
      ],
      "text/plain": [
       "  column  accuracy  ROC AUC\n",
       "0  toxic    0.9084   0.9566"
      ]
     },
     "execution_count": 821,
     "metadata": {},
     "output_type": "execute_result"
    }
   ],
   "source": [
    "this_score = pd.DataFrame({\n",
    "    'column' : [label_columns[0]], \n",
    "    'accuracy' : [round(accuracy_score(y_test, rfc_predict), 4)],    \n",
    "    'ROC AUC' : [round(roc_auc_score(y_test, rfc_predict_proba[:, 1]), 4)]\n",
    "})\n",
    "this_score"
   ]
  },
  {
   "cell_type": "markdown",
   "metadata": {},
   "source": [
    "## SVC"
   ]
  },
  {
   "cell_type": "markdown",
   "metadata": {},
   "source": [
    "### Cross-validate"
   ]
  },
  {
   "cell_type": "code",
   "execution_count": 822,
   "metadata": {},
   "outputs": [],
   "source": [
    "best_c = 0.01"
   ]
  },
  {
   "cell_type": "code",
   "execution_count": 823,
   "metadata": {},
   "outputs": [],
   "source": [
    "from sklearn.calibration import CalibratedClassifierCV\n",
    "\n",
    "cv_svc_0 = SVC(C = best_c,\n",
    "              random_state = 43)\n",
    "cv_svc = CalibratedClassifierCV(cv_svc_0,\n",
    "                               n_jobs = num_cores) "
   ]
  },
  {
   "cell_type": "code",
   "execution_count": 824,
   "metadata": {},
   "outputs": [
    {
     "name": "stderr",
     "output_type": "stream",
     "text": [
      "[Parallel(n_jobs=15)]: Using backend LokyBackend with 15 concurrent workers.\n",
      "[Parallel(n_jobs=15)]: Done   3 out of   3 | elapsed:   29.3s finished\n"
     ]
    }
   ],
   "source": [
    "cv_result = cross_val_score(estimator = cv_svc,\n",
    "                            X = X_train_char, \n",
    "                            y = y_train,\n",
    "                            cv = 3,\n",
    "                            n_jobs = num_cores,\n",
    "                           scoring = 'roc_auc',\n",
    "                           verbose = 1)"
   ]
  },
  {
   "cell_type": "code",
   "execution_count": 825,
   "metadata": {},
   "outputs": [
    {
     "data": {
      "text/plain": [
       "0.99"
      ]
     },
     "execution_count": 825,
     "metadata": {},
     "output_type": "execute_result"
    }
   ],
   "source": [
    "round(cv_result.mean(), 4)"
   ]
  },
  {
   "cell_type": "code",
   "execution_count": 826,
   "metadata": {},
   "outputs": [
    {
     "name": "stderr",
     "output_type": "stream",
     "text": [
      "C:\\Users\\dmodj\\anaconda3\\lib\\site-packages\\sklearn\\utils\\validation.py:63: DataConversionWarning: A column-vector y was passed when a 1d array was expected. Please change the shape of y to (n_samples, ), for example using ravel().\n",
      "  return f(*args, **kwargs)\n"
     ]
    },
    {
     "data": {
      "text/plain": [
       "CalibratedClassifierCV(base_estimator=LinearSVC(C=0.01, random_state=43),\n",
       "                       n_jobs=15)"
      ]
     },
     "execution_count": 826,
     "metadata": {},
     "output_type": "execute_result"
    }
   ],
   "source": [
    "cv_svc.fit(X_train_char, y_train)"
   ]
  },
  {
   "cell_type": "markdown",
   "metadata": {},
   "source": [
    "### Test"
   ]
  },
  {
   "cell_type": "code",
   "execution_count": 827,
   "metadata": {},
   "outputs": [],
   "source": [
    "svc_predict = cv_svc.predict(X_test_char).reshape(-1, 1)\n",
    "svc_predict_proba = cv_svc.predict_proba(X_test_char)"
   ]
  },
  {
   "cell_type": "code",
   "execution_count": 828,
   "metadata": {
    "scrolled": true
   },
   "outputs": [
    {
     "data": {
      "text/html": [
       "<div>\n",
       "<style scoped>\n",
       "    .dataframe tbody tr th:only-of-type {\n",
       "        vertical-align: middle;\n",
       "    }\n",
       "\n",
       "    .dataframe tbody tr th {\n",
       "        vertical-align: top;\n",
       "    }\n",
       "\n",
       "    .dataframe thead th {\n",
       "        text-align: right;\n",
       "    }\n",
       "</style>\n",
       "<table border=\"1\" class=\"dataframe\">\n",
       "  <thead>\n",
       "    <tr style=\"text-align: right;\">\n",
       "      <th></th>\n",
       "      <th>column</th>\n",
       "      <th>accuracy</th>\n",
       "      <th>ROC AUC</th>\n",
       "    </tr>\n",
       "  </thead>\n",
       "  <tbody>\n",
       "    <tr>\n",
       "      <th>0</th>\n",
       "      <td>toxic</td>\n",
       "      <td>0.91</td>\n",
       "      <td>0.957</td>\n",
       "    </tr>\n",
       "  </tbody>\n",
       "</table>\n",
       "</div>"
      ],
      "text/plain": [
       "  column  accuracy  ROC AUC\n",
       "0  toxic      0.91    0.957"
      ]
     },
     "execution_count": 828,
     "metadata": {},
     "output_type": "execute_result"
    }
   ],
   "source": [
    "this_score = pd.DataFrame({\n",
    "    'column' : [label_columns[0]], \n",
    "    'accuracy' : [round(accuracy_score(y_test, xgbc_predict), 4)],    \n",
    "    'ROC AUC' : [round(roc_auc_score(y_test, svc_predict_proba[:, 1]), 4)]\n",
    "})\n",
    "this_score"
   ]
  },
  {
   "cell_type": "markdown",
   "metadata": {},
   "source": [
    "## Ensemble"
   ]
  },
  {
   "cell_type": "markdown",
   "metadata": {},
   "source": [
    "### Cross-validate"
   ]
  },
  {
   "cell_type": "code",
   "execution_count": 829,
   "metadata": {},
   "outputs": [],
   "source": [
    "cv_ensemble = VotingClassifier(estimators = [('xgbc', cv_xgbc), \n",
    "                                             ('log_reg', cv_log_reg), \n",
    "                                             ('svc', cv_svc),\n",
    "                                             ('rfc', cv_rfc)],\n",
    "                               voting = 'soft')"
   ]
  },
  {
   "cell_type": "code",
   "execution_count": 830,
   "metadata": {},
   "outputs": [
    {
     "name": "stderr",
     "output_type": "stream",
     "text": [
      "[Parallel(n_jobs=15)]: Using backend LokyBackend with 15 concurrent workers.\n",
      "[Parallel(n_jobs=15)]: Done   3 out of   3 | elapsed:   39.1s finished\n"
     ]
    }
   ],
   "source": [
    "cv_result = cross_val_score(estimator = cv_ensemble, \n",
    "                            X = X_train_char, \n",
    "                            y = y_train,\n",
    "                            cv = 3,\n",
    "                            n_jobs = num_cores,\n",
    "                           scoring = 'roc_auc',\n",
    "                           verbose = 1)"
   ]
  },
  {
   "cell_type": "code",
   "execution_count": 831,
   "metadata": {},
   "outputs": [
    {
     "data": {
      "text/plain": [
       "0.9908"
      ]
     },
     "execution_count": 831,
     "metadata": {},
     "output_type": "execute_result"
    }
   ],
   "source": [
    "round(cv_result.mean(), 4)"
   ]
  },
  {
   "cell_type": "code",
   "execution_count": 832,
   "metadata": {},
   "outputs": [
    {
     "name": "stderr",
     "output_type": "stream",
     "text": [
      "C:\\Users\\dmodj\\anaconda3\\lib\\site-packages\\sklearn\\utils\\validation.py:63: DataConversionWarning: A column-vector y was passed when a 1d array was expected. Please change the shape of y to (n_samples, ), for example using ravel().\n",
      "  return f(*args, **kwargs)\n"
     ]
    },
    {
     "data": {
      "text/plain": [
       "VotingClassifier(estimators=[('xgbc',\n",
       "                              XGBClassifier(base_score=0.5, booster='gbtree',\n",
       "                                            colsample_bylevel=1,\n",
       "                                            colsample_bynode=1,\n",
       "                                            colsample_bytree=1,\n",
       "                                            eval_metric='logloss', gamma=0,\n",
       "                                            gpu_id=-1, importance_type='gain',\n",
       "                                            interaction_constraints='',\n",
       "                                            learning_rate=0.3, max_delta_step=0,\n",
       "                                            max_depth=2, min_child_weight=1,\n",
       "                                            missing=nan,\n",
       "                                            monotone_constraints='()',\n",
       "                                            n_estimators=10...\n",
       "                                            scale_pos_weight=1, subsample=1,\n",
       "                                            tree_method='exact',\n",
       "                                            use_label_encoder=False,\n",
       "                                            validate_parameters=1,\n",
       "                                            verbosity=None)),\n",
       "                             ('log_reg',\n",
       "                              LogisticRegression(C=1, class_weight='balanced',\n",
       "                                                 n_jobs=15)),\n",
       "                             ('svc',\n",
       "                              CalibratedClassifierCV(base_estimator=LinearSVC(C=0.01,\n",
       "                                                                              random_state=43),\n",
       "                                                     n_jobs=15)),\n",
       "                             ('rfc',\n",
       "                              RandomForestClassifier(max_depth=10,\n",
       "                                                     n_estimators=125,\n",
       "                                                     n_jobs=15))],\n",
       "                 voting='soft')"
      ]
     },
     "execution_count": 832,
     "metadata": {},
     "output_type": "execute_result"
    }
   ],
   "source": [
    "cv_ensemble.fit(X_train_char, y_train)"
   ]
  },
  {
   "cell_type": "markdown",
   "metadata": {},
   "source": [
    "### Test"
   ]
  },
  {
   "cell_type": "code",
   "execution_count": 833,
   "metadata": {},
   "outputs": [],
   "source": [
    "ensemble_predict = cv_ensemble.predict(X_test_char).reshape(-1, 1)\n",
    "ensemble_predict_proba = cv_ensemble.predict_proba(X_test_char)"
   ]
  },
  {
   "cell_type": "code",
   "execution_count": 834,
   "metadata": {},
   "outputs": [
    {
     "data": {
      "text/html": [
       "<div>\n",
       "<style scoped>\n",
       "    .dataframe tbody tr th:only-of-type {\n",
       "        vertical-align: middle;\n",
       "    }\n",
       "\n",
       "    .dataframe tbody tr th {\n",
       "        vertical-align: top;\n",
       "    }\n",
       "\n",
       "    .dataframe thead th {\n",
       "        text-align: right;\n",
       "    }\n",
       "</style>\n",
       "<table border=\"1\" class=\"dataframe\">\n",
       "  <thead>\n",
       "    <tr style=\"text-align: right;\">\n",
       "      <th></th>\n",
       "      <th>column</th>\n",
       "      <th>accuracy</th>\n",
       "      <th>ROC AUC</th>\n",
       "    </tr>\n",
       "  </thead>\n",
       "  <tbody>\n",
       "    <tr>\n",
       "      <th>0</th>\n",
       "      <td>toxic</td>\n",
       "      <td>0.91</td>\n",
       "      <td>0.9584</td>\n",
       "    </tr>\n",
       "  </tbody>\n",
       "</table>\n",
       "</div>"
      ],
      "text/plain": [
       "  column  accuracy  ROC AUC\n",
       "0  toxic      0.91   0.9584"
      ]
     },
     "execution_count": 834,
     "metadata": {},
     "output_type": "execute_result"
    }
   ],
   "source": [
    "this_score = pd.DataFrame({\n",
    "    'column' : [label_columns[0]], \n",
    "    'accuracy' : [round(accuracy_score(y_test, xgbc_predict), 4)],    \n",
    "    'ROC AUC' : [round(roc_auc_score(y_test, ensemble_predict_proba[:, 1]), 4)]\n",
    "})\n",
    "this_score"
   ]
  },
  {
   "cell_type": "markdown",
   "metadata": {},
   "source": [
    "## MLP"
   ]
  },
  {
   "cell_type": "code",
   "execution_count": 835,
   "metadata": {},
   "outputs": [],
   "source": [
    "y_train = train[label_columns].values\n",
    "y_test = test_labels[label_columns].values"
   ]
  },
  {
   "cell_type": "code",
   "execution_count": 836,
   "metadata": {},
   "outputs": [],
   "source": [
    "from keras.models import Sequential\n",
    "from keras.utils import np_utils\n",
    "from keras.layers.core import Dense, Activation, Dropout\n",
    "from keras.optimizer_v2.adam import Adam"
   ]
  },
  {
   "cell_type": "code",
   "execution_count": 837,
   "metadata": {},
   "outputs": [],
   "source": [
    "from sklearn.preprocessing import StandardScaler\n",
    "\n",
    "scaler = StandardScaler()\n",
    "scaler.fit(X_train_char)\n",
    "X_train_mlp = scaler.transform(X_train_char)\n",
    "X_test_mlp = scaler.transform(X_test_char)"
   ]
  },
  {
   "cell_type": "code",
   "execution_count": 838,
   "metadata": {},
   "outputs": [],
   "source": [
    "input_dim = X_train_mlp.shape[1]\n",
    "nb_classes = y_train.shape[1]"
   ]
  },
  {
   "cell_type": "code",
   "execution_count": 859,
   "metadata": {},
   "outputs": [],
   "source": [
    "regularization_level = 0.1\n",
    "\n",
    "model = Sequential()\n",
    "model.add(Dense(16, input_dim = input_dim, activation = 'relu', \n",
    "                kernel_regularizer=keras.regularizers.l2(l = regularization_level)))\n",
    "#model.add(Dropout(0.1))\n",
    "model.add(Dense(16, input_dim = input_dim, activation = 'relu', \n",
    "                kernel_regularizer=keras.regularizers.l2(l = regularization_level)))\n",
    "#model.add(Dropout(0.1))\n",
    "model.add(Dense(nb_classes, activation = 'sigmoid'))"
   ]
  },
  {
   "cell_type": "code",
   "execution_count": 860,
   "metadata": {},
   "outputs": [
    {
     "name": "stdout",
     "output_type": "stream",
     "text": [
      "Model: \"sequential_105\"\n",
      "_________________________________________________________________\n",
      "Layer (type)                 Output Shape              Param #   \n",
      "=================================================================\n",
      "dense_314 (Dense)            (None, 16)                192       \n",
      "_________________________________________________________________\n",
      "dense_315 (Dense)            (None, 16)                272       \n",
      "_________________________________________________________________\n",
      "dense_316 (Dense)            (None, 6)                 102       \n",
      "=================================================================\n",
      "Total params: 566\n",
      "Trainable params: 566\n",
      "Non-trainable params: 0\n",
      "_________________________________________________________________\n"
     ]
    }
   ],
   "source": [
    "opt = Adam(learning_rate = 1E-4)\n",
    "model.compile(loss = 'categorical_crossentropy', optimizer = opt, metrics = ['accuracy', 'AUC'])\n",
    "\n",
    "model.summary()"
   ]
  },
  {
   "cell_type": "code",
   "execution_count": 861,
   "metadata": {},
   "outputs": [
    {
     "name": "stdout",
     "output_type": "stream",
     "text": [
      "Training...\n",
      "Epoch 1/3\n",
      "3990/3990 [==============================] - 21s 5ms/step - loss: 2.1090 - accuracy: 0.8814 - auc: 0.8343 - val_loss: 1.6196 - val_accuracy: 0.9941 - val_auc: 0.9690\n",
      "Epoch 2/3\n",
      "3990/3990 [==============================] - 20s 5ms/step - loss: 2.7195 - accuracy: 0.9948 - auc: 0.9538 - val_loss: 7.5453 - val_accuracy: 0.9941 - val_auc: 0.9215\n",
      "Epoch 3/3\n",
      "3990/3990 [==============================] - 21s 5ms/step - loss: 9.8761 - accuracy: 0.9931 - auc: 0.9232 - val_loss: 18.2221 - val_accuracy: 0.9883 - val_auc: 0.9142\n"
     ]
    }
   ],
   "source": [
    "print(\"Training...\")\n",
    "history = model.fit(X_train_mlp, y_train, epochs = 3, batch_size = 32, validation_split = 0.2, verbose = 'auto')"
   ]
  },
  {
   "cell_type": "code",
   "execution_count": 862,
   "metadata": {},
   "outputs": [
    {
     "data": {
      "image/png": "[encoded data removed]",
      "text/plain": [
       "<Figure size 432x288 with 1 Axes>"
      ]
     },
     "metadata": {
      "needs_background": "light"
     },
     "output_type": "display_data"
    }
   ],
   "source": [
    "loss = history.history['loss']\n",
    "val_loss = history.history['val_loss']\n",
    "\n",
    "epochs = range(1, len(loss)+1)\n",
    "\n",
    "plt.plot(epochs, loss, label='Training loss')\n",
    "plt.plot(epochs, val_loss, label='Validation loss')\n",
    "\n",
    "plt.title('Training and validation loss')\n",
    "plt.xlabel('Epochs')\n",
    "plt.ylabel('Loss')\n",
    "plt.legend()\n",
    "\n",
    "plt.show();"
   ]
  },
  {
   "cell_type": "code",
   "execution_count": 863,
   "metadata": {},
   "outputs": [
    {
     "data": {
      "image/png": "[encoded data removed]",
      "text/plain": [
       "<Figure size 432x288 with 1 Axes>"
      ]
     },
     "metadata": {
      "needs_background": "light"
     },
     "output_type": "display_data"
    }
   ],
   "source": [
    "accuracy = history.history['accuracy']\n",
    "val_accuracy = history.history['val_accuracy']\n",
    "\n",
    "plt.plot(epochs, accuracy, label='Training accuracy')\n",
    "plt.plot(epochs, val_accuracy, label='Validation accuracy')\n",
    "\n",
    "plt.title('Training and validation accuracy')\n",
    "plt.ylabel('Accuracy')\n",
    "plt.xlabel('Epochs')\n",
    "plt.legend()\n",
    "\n",
    "plt.show();"
   ]
  },
  {
   "cell_type": "code",
   "execution_count": 864,
   "metadata": {},
   "outputs": [
    {
     "data": {
      "image/png": "[encoded data removed]",
      "text/plain": [
       "<Figure size 432x288 with 1 Axes>"
      ]
     },
     "metadata": {
      "needs_background": "light"
     },
     "output_type": "display_data"
    }
   ],
   "source": [
    "accuracy = history.history['auc']\n",
    "val_accuracy = history.history['val_auc']\n",
    "\n",
    "plt.plot(epochs, accuracy, label='Training AUC')\n",
    "plt.plot(epochs, val_accuracy, label='Validation AUC')\n",
    "\n",
    "plt.title('Training and validation AUC')\n",
    "plt.ylabel('AUC')\n",
    "plt.xlabel('Epochs')\n",
    "plt.legend()\n",
    "\n",
    "plt.show();"
   ]
  },
  {
   "cell_type": "code",
   "execution_count": 865,
   "metadata": {},
   "outputs": [
    {
     "name": "stdout",
     "output_type": "stream",
     "text": [
      "Generating test predictions...\n"
     ]
    }
   ],
   "source": [
    "print(\"Generating test predictions...\")\n",
    "predict_prob_test_dl = model.predict(X_test_mlp) "
   ]
  },
  {
   "cell_type": "code",
   "execution_count": 866,
   "metadata": {},
   "outputs": [],
   "source": [
    "all_scores_dl = pd.DataFrame()\n",
    "\n",
    "for i in range(nb_classes):\n",
    "    this_score = pd.DataFrame({\n",
    "        'column' : [label_columns[i]], \n",
    "        'ROC AUC' : [round(roc_auc_score(y_test[:, i], predict_prob_test_dl[:, i]), 4)]\n",
    "    })\n",
    "    \n",
    "    all_scores_dl = pd.concat([all_scores_dl, this_score], axis = 0)\n",
    "\n",
    "all_scores_dl.reset_index(drop = True, inplace = True)"
   ]
  },
  {
   "cell_type": "code",
   "execution_count": 867,
   "metadata": {},
   "outputs": [
    {
     "name": "stdout",
     "output_type": "stream",
     "text": [
      "PREDICT\n",
      "Label 0\n",
      "Label 1\n",
      "Label 2\n",
      "Label 3\n",
      "Label 4\n",
      "Label 5\n"
     ]
    }
   ],
   "source": [
    "all_predictions_dl = [None] * num_labels\n",
    "all_roc_auc_scores_dl = pd.DataFrame()\n",
    "\n",
    "print('PREDICT')\n",
    "\n",
    "for i in range(nb_classes):\n",
    "    print('Label ' + str(i))\n",
    "    \n",
    "    #this_predict_proba = predict_prob_test_dl[:, i]\n",
    "    this_predict_proba = predict_prob_test_dl[:, 0]\n",
    "    all_predictions_dl[i] = this_predict_proba\n",
    "    \n",
    "    this_roc_auc_score = pd.DataFrame({\n",
    "        'column' : [label_columns[i]], \n",
    "        'ROC AUC' : [round(roc_auc_score(y_test[:, i], this_predict_proba), 4)]\n",
    "    })\n",
    "    all_roc_auc_scores_dl = pd.concat([all_roc_auc_scores_dl, this_roc_auc_score], axis = 0)"
   ]
  },
  {
   "cell_type": "code",
   "execution_count": 868,
   "metadata": {},
   "outputs": [
    {
     "data": {
      "text/html": [
       "<div>\n",
       "<style scoped>\n",
       "    .dataframe tbody tr th:only-of-type {\n",
       "        vertical-align: middle;\n",
       "    }\n",
       "\n",
       "    .dataframe tbody tr th {\n",
       "        vertical-align: top;\n",
       "    }\n",
       "\n",
       "    .dataframe thead th {\n",
       "        text-align: right;\n",
       "    }\n",
       "</style>\n",
       "<table border=\"1\" class=\"dataframe\">\n",
       "  <thead>\n",
       "    <tr style=\"text-align: right;\">\n",
       "      <th></th>\n",
       "      <th>column</th>\n",
       "      <th>ROC AUC</th>\n",
       "    </tr>\n",
       "  </thead>\n",
       "  <tbody>\n",
       "    <tr>\n",
       "      <th>0</th>\n",
       "      <td>toxic</td>\n",
       "      <td>0.9052</td>\n",
       "    </tr>\n",
       "    <tr>\n",
       "      <th>1</th>\n",
       "      <td>severe_toxic</td>\n",
       "      <td>0.9200</td>\n",
       "    </tr>\n",
       "    <tr>\n",
       "      <th>2</th>\n",
       "      <td>obscene</td>\n",
       "      <td>0.9225</td>\n",
       "    </tr>\n",
       "    <tr>\n",
       "      <th>3</th>\n",
       "      <td>threat</td>\n",
       "      <td>0.9040</td>\n",
       "    </tr>\n",
       "    <tr>\n",
       "      <th>4</th>\n",
       "      <td>insult</td>\n",
       "      <td>0.9171</td>\n",
       "    </tr>\n",
       "    <tr>\n",
       "      <th>5</th>\n",
       "      <td>identity_hate</td>\n",
       "      <td>0.8929</td>\n",
       "    </tr>\n",
       "  </tbody>\n",
       "</table>\n",
       "</div>"
      ],
      "text/plain": [
       "          column  ROC AUC\n",
       "0          toxic   0.9052\n",
       "1   severe_toxic   0.9200\n",
       "2        obscene   0.9225\n",
       "3         threat   0.9040\n",
       "4         insult   0.9171\n",
       "5  identity_hate   0.8929"
      ]
     },
     "execution_count": 868,
     "metadata": {},
     "output_type": "execute_result"
    }
   ],
   "source": [
    "all_roc_auc_scores_dl.reset_index(drop = True)"
   ]
  },
  {
   "cell_type": "code",
   "execution_count": 869,
   "metadata": {},
   "outputs": [
    {
     "name": "stdout",
     "output_type": "stream",
     "text": [
      "0.9156\n"
     ]
    }
   ],
   "source": [
    "print(round(all_scores_dl['ROC AUC'].mean(), 4))"
   ]
  },
  {
   "cell_type": "code",
   "execution_count": null,
   "metadata": {},
   "outputs": [],
   "source": []
  }
 ],
 "metadata": {
  "kernelspec": {
   "display_name": "Python 3",
   "language": "python",
   "name": "python3"
  },
  "language_info": {
   "codemirror_mode": {
    "name": "ipython",
    "version": 3
   },
   "file_extension": ".py",
   "mimetype": "text/x-python",
   "name": "python",
   "nbconvert_exporter": "python",
   "pygments_lexer": "ipython3",
   "version": "3.8.8"
  }
 },
 "nbformat": 4,
 "nbformat_minor": 4
}
